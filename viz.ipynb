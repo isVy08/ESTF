{
 "cells": [
  {
   "cell_type": "markdown",
   "id": "cf1c0eee",
   "metadata": {},
   "source": [
    "## Imports"
   ]
  },
  {
   "cell_type": "code",
   "execution_count": 3,
   "id": "4ca714f8",
   "metadata": {},
   "outputs": [],
   "source": [
    "import scipy.io, random\n",
    "import numpy as np\n",
    "from utils import *\n",
    "import matplotlib.pyplot as plt\n",
    "from tqdm import tqdm\n",
    "import pandas as pd\n",
    "from scipy import stats"
   ]
  },
  {
   "cell_type": "markdown",
   "id": "58887af9",
   "metadata": {},
   "source": [
    "## Utils"
   ]
  },
  {
   "cell_type": "code",
   "execution_count": 4,
   "id": "e5d683be",
   "metadata": {},
   "outputs": [],
   "source": [
    "def plot_forecast(source, prediction, nrow=5, ncol=5, from_=2800, to_=None, figsize=(10,8)):\n",
    "    n = source.shape[0]\n",
    "    idx = list(range(n))\n",
    "    fig, axs = plt.subplots(nrow, ncol, figsize=figsize, sharex=True)\n",
    "    if to_ is None:\n",
    "        to_ = source.shape[1]\n",
    "    i = 0\n",
    "    for r in range(nrow):\n",
    "        for c in range(ncol):\n",
    "            axs[r,c].plot(range(from_, to_), source[idx[i], from_:to_], c='b', label='Real values')\n",
    "            axs[r,c].plot(range(from_, to_), prediction[idx[i], from_:to_], c='r', label='Forecasts')\n",
    "            axs[r,c].grid()\n",
    "            i += 1\n",
    "            \n",
    "    fig.tight_layout()\n",
    "    handles, labels = fig.axes[0].get_legend_handles_labels()\n",
    "    fig.legend(handles, labels, ncol=2, fontsize='large', loc='upper center', bbox_to_anchor=(0.25, 0.55, 0.5, 0.5))\n",
    "    plt.setp(axs[-1, :], xlabel='Time')\n",
    "    plt.show()"
   ]
  },
  {
   "cell_type": "code",
   "execution_count": 5,
   "id": "907a211d",
   "metadata": {},
   "outputs": [],
   "source": [
    "def read_data_from_csv(data_path):\n",
    "    df = pd.read_csv(data_path)\n",
    "    X = df.iloc[:, 1:].to_numpy()\n",
    "    return X"
   ]
  },
  {
   "cell_type": "code",
   "execution_count": 6,
   "id": "a8631775",
   "metadata": {},
   "outputs": [],
   "source": [
    "def plot_sf(d, F, F_hat, nrow=5, ncol=5, to_=None, figsize=(10,8), step=10):\n",
    "    fig, axs = plt.subplots(nrow, ncol, figsize=figsize, sharex=True)\n",
    "    if to_ is None:\n",
    "        to_ = F.shape[0]\n",
    "    i = 0\n",
    "    for r in range(nrow):\n",
    "        for c in range(ncol):\n",
    "            axs[r,c].scatter(d[:to_], F[i, :to_,], c='b', label='Actual SF')\n",
    "            axs[r,c].scatter(d[:to_], F_hat[i, :to_,], c='r', label='Estimated SF')\n",
    "            axs[r,c].title.set_text(f'Time = {i *step}')\n",
    "            axs[r,c].grid()\n",
    "            i += 1\n",
    "            \n",
    "    fig.tight_layout()\n",
    "#     handles, labels = fig.axes[0].get_legend_handles_labels()\n",
    "#     fig.legend(handles, labels, ncol=2, fontsize='large', loc='upper center', bbox_to_anchor=(0.25, 0.55, 0.5, 0.5))\n",
    "    plt.setp(axs[-1, :], xlabel='Distance')\n",
    "    plt.show()"
   ]
  },
  {
   "cell_type": "code",
   "execution_count": 7,
   "id": "4ece9450",
   "metadata": {},
   "outputs": [],
   "source": [
    "import matplotlib.colors as mcolors\n",
    "colors = [v for k, v in mcolors.TABLEAU_COLORS.items()]"
   ]
  },
  {
   "cell_type": "code",
   "execution_count": 8,
   "id": "02109ea8",
   "metadata": {},
   "outputs": [],
   "source": [
    "def get_alphas(path):\n",
    "    alphas = pd.read_csv(path)\n",
    "    return alphas.iloc[:, 1:].to_numpy()"
   ]
  },
  {
   "cell_type": "markdown",
   "id": "58ad9b53",
   "metadata": {},
   "source": [
    "## Init"
   ]
  },
  {
   "cell_type": "code",
   "execution_count": 9,
   "id": "a16ff636",
   "metadata": {},
   "outputs": [],
   "source": [
    "ids, d = load_pickle('data/sample.pickle')"
   ]
  },
  {
   "cell_type": "markdown",
   "id": "5c68bf64",
   "metadata": {},
   "source": [
    "# Stationary"
   ]
  },
  {
   "cell_type": "markdown",
   "id": "7352daff",
   "metadata": {},
   "source": [
    "## 1. Forecasting"
   ]
  },
  {
   "cell_type": "code",
   "execution_count": null,
   "id": "282cc141",
   "metadata": {},
   "outputs": [],
   "source": [
    "sim = load_pickle('output/st_sim.pickle')"
   ]
  },
  {
   "cell_type": "code",
   "execution_count": null,
   "id": "a9ae8001",
   "metadata": {},
   "outputs": [],
   "source": [
    "sim[0].shape, sim[1].shape, sim[2].shape"
   ]
  },
  {
   "cell_type": "code",
   "execution_count": null,
   "id": "7976d9e2",
   "metadata": {
    "scrolled": false
   },
   "outputs": [],
   "source": [
    "plt.figure(figsize=(8,5))\n",
    "plt.plot(range(300,500), sim[0][10, -200:], c='b', label='Real Values')\n",
    "plt.plot(range(300, 500), sim[1][10, -200:], c='r', label='Forecasts')\n",
    "plt.xlabel('Time')\n",
    "plt.legend(fontsize='medium', loc='upper left')\n",
    "plt.title('Stationary Simulation')\n",
    "plt.grid()\n",
    "plt.show()"
   ]
  },
  {
   "cell_type": "code",
   "execution_count": null,
   "id": "e2da7982",
   "metadata": {
    "scrolled": false
   },
   "outputs": [],
   "source": [
    "plot_forecast(sim[0], sim[1], 6, 5, 300, 500, (16,7))"
   ]
  },
  {
   "cell_type": "markdown",
   "id": "761888c0",
   "metadata": {},
   "source": [
    "## 2. Shape Function"
   ]
  },
  {
   "cell_type": "code",
   "execution_count": null,
   "id": "a5b3ffae",
   "metadata": {},
   "outputs": [],
   "source": [
    "F = np.log(d+1)"
   ]
  },
  {
   "cell_type": "code",
   "execution_count": null,
   "id": "228ef74c",
   "metadata": {
    "scrolled": false
   },
   "outputs": [],
   "source": [
    "l = 1000\n",
    "plt.figure(figsize=(8,5))\n",
    "plt.scatter(d[:l], F[:l, ], c='b', label='Actual SF')\n",
    "plt.scatter(d[:l], sim[2][:l, 0], c='r', label='Estimated SF')\n",
    "plt.legend()\n",
    "plt.grid()\n",
    "plt.xlabel('Distance')\n",
    "plt.title('Stationary Simulation')\n",
    "plt.show()"
   ]
  },
  {
   "cell_type": "code",
   "execution_count": null,
   "id": "97063b08",
   "metadata": {},
   "outputs": [],
   "source": [
    "plot_shape_function(d_norm, sim[2], None, 5, 5)"
   ]
  },
  {
   "cell_type": "markdown",
   "id": "fa5487ed",
   "metadata": {},
   "source": [
    "## 3. Decreasing Shape Function"
   ]
  },
  {
   "cell_type": "code",
   "execution_count": 48,
   "id": "65086ab5",
   "metadata": {},
   "outputs": [],
   "source": [
    "shape = 'quad' \n",
    "# shape = 'log'"
   ]
  },
  {
   "cell_type": "code",
   "execution_count": 49,
   "id": "42a2eb3b",
   "metadata": {},
   "outputs": [
    {
     "data": {
      "text/plain": [
       "(20, 1)"
      ]
     },
     "execution_count": 49,
     "metadata": {},
     "output_type": "execute_result"
    }
   ],
   "source": [
    "alphas = get_alphas(f'data/stationary/{shape}/alphas.csv')\n",
    "alphas.shape"
   ]
  },
  {
   "cell_type": "code",
   "execution_count": 50,
   "id": "327e802b",
   "metadata": {},
   "outputs": [],
   "source": [
    "F = []\n",
    "cutoff = 170\n",
    "n = alphas.shape[0]\n",
    "for i in range(n):\n",
    "    if shape == 'log':\n",
    "        f = alphas[i, 0] * (-np.log(d+1) + np.log(cutoff))\n",
    "    else:\n",
    "        f = alphas[i, 0] * d**2 - 400 * alphas[i, 0] * d + 40000*alphas[i, 0]\n",
    "    F.append(f)\n",
    "F = np.array(F)"
   ]
  },
  {
   "cell_type": "code",
   "execution_count": null,
   "id": "8e8b6b7f",
   "metadata": {},
   "outputs": [],
   "source": [
    "plt.scatter(d, F[11, :])"
   ]
  },
  {
   "cell_type": "code",
   "execution_count": 16,
   "id": "99ce3ecd",
   "metadata": {},
   "outputs": [],
   "source": [
    "np.save(f'data/stationary/{shape}/F.npy', F)"
   ]
  },
  {
   "cell_type": "code",
   "execution_count": 52,
   "id": "a8a3e6f3",
   "metadata": {
    "scrolled": true
   },
   "outputs": [
    {
     "data": {
      "text/plain": [
       "(900,)"
      ]
     },
     "execution_count": 52,
     "metadata": {},
     "output_type": "execute_result"
    }
   ],
   "source": [
    "F = F.mean(0)\n",
    "F.shape"
   ]
  },
  {
   "cell_type": "markdown",
   "id": "8873bd7f",
   "metadata": {},
   "source": [
    "### Estimation"
   ]
  },
  {
   "cell_type": "code",
   "execution_count": 53,
   "id": "cf4139d4",
   "metadata": {},
   "outputs": [],
   "source": [
    "F_hats = []\n",
    "for i in range(20):\n",
    "    out = load_pickle(f'output/stationary/{shape}/out{i}.pickle')\n",
    "    f = out[2].transpose()\n",
    "    F_hats.append(f)\n",
    "F_hats = np.concatenate(F_hats, 0)"
   ]
  },
  {
   "cell_type": "code",
   "execution_count": 54,
   "id": "d30202ac",
   "metadata": {},
   "outputs": [
    {
     "data": {
      "text/plain": [
       "((900,), (900,))"
      ]
     },
     "execution_count": 54,
     "metadata": {},
     "output_type": "execute_result"
    }
   ],
   "source": [
    "F_hats = F_hats.mean(0)\n",
    "F.shape, F_hats.shape"
   ]
  },
  {
   "cell_type": "code",
   "execution_count": 61,
   "id": "a1448087",
   "metadata": {},
   "outputs": [
    {
     "data": {
      "text/plain": [
       "(array([0.01534216, 0.0142977 , 0.0116844 , 0.0062491 , 0.01664824,\n",
       "        0.00789494, 0.01490891, 0.01298755, 0.00863185, 0.00591366,\n",
       "        0.01234465, 0.0093016 , 0.00878535, 0.0185326 , 0.01388143,\n",
       "        0.00406763, 0.01326316, 0.01626252, 0.01527288, 0.01302823]),\n",
       " array([0.02270182, 0.02136643, 0.01787715, 0.00911734, 0.02461196,\n",
       "        0.01147912, 0.02188782, 0.01992426, 0.0128606 , 0.0079637 ,\n",
       "        0.01924553, 0.01356578, 0.01305099, 0.02554881, 0.02079467,\n",
       "        0.00418487, 0.02030123, 0.02408245, 0.02266036, 0.02000466],\n",
       "       dtype=float32))"
      ]
     },
     "execution_count": 61,
     "metadata": {},
     "output_type": "execute_result"
    }
   ],
   "source": [
    "F[80:100], F_hats[80:100]"
   ]
  },
  {
   "cell_type": "code",
   "execution_count": null,
   "id": "690fc3b3",
   "metadata": {
    "scrolled": true
   },
   "outputs": [],
   "source": [
    "idx = np.argwhere(d < 300)\n",
    "plt.scatter(d[idx,], F[idx,], c='b', label='Actual SF')\n",
    "plt.scatter(d[idx,], F_hats[idx, ], c='r', label='Estimated SF')"
   ]
  },
  {
   "cell_type": "markdown",
   "id": "62ede46d",
   "metadata": {},
   "source": [
    "# Non-Stationary"
   ]
  },
  {
   "cell_type": "code",
   "execution_count": 88,
   "id": "799018a2",
   "metadata": {},
   "outputs": [],
   "source": [
    "shape = 'log'"
   ]
  },
  {
   "cell_type": "code",
   "execution_count": 89,
   "id": "d44b416c",
   "metadata": {},
   "outputs": [],
   "source": [
    "alphas = get_alphas(f'data/non_stationary/{shape}/alphas.csv')"
   ]
  },
  {
   "cell_type": "code",
   "execution_count": 90,
   "id": "c94dd86f",
   "metadata": {
    "scrolled": true
   },
   "outputs": [
    {
     "data": {
      "text/plain": [
       "(20, 2)"
      ]
     },
     "execution_count": 90,
     "metadata": {},
     "output_type": "execute_result"
    }
   ],
   "source": [
    "alphas.shape"
   ]
  },
  {
   "cell_type": "code",
   "execution_count": 91,
   "id": "15ca3fdf",
   "metadata": {},
   "outputs": [
    {
     "name": "stderr",
     "output_type": "stream",
     "text": [
      "100%|███████████████████████████████████████████| 20/20 [00:00<00:00, 44.70it/s]\n"
     ]
    },
    {
     "data": {
      "text/plain": [
       "(20, 500, 900)"
      ]
     },
     "execution_count": 91,
     "metadata": {},
     "output_type": "execute_result"
    }
   ],
   "source": [
    "def get_shape_function(d, shape, alpha_1, cutoff):\n",
    "    if shape == 'log':\n",
    "        return alpha_1 * (-np.log(d+1) + np.log(cutoff))\n",
    "    elif shape == 'quad': \n",
    "        return alpha_1 * d**2 - 400 * alpha_1 * d + 40000*alphas_1\n",
    "        \n",
    "T = 500\n",
    "F = []\n",
    "cutoff=170\n",
    "\n",
    "for i in tqdm(range(20)):\n",
    "    fs = []\n",
    "    alpha = alphas[i, :]\n",
    "    for t in range(2, T + 1):\n",
    "        alpha_1 = (1 - (t-1)/T)*alpha[0]+(t-1)/T*alpha[1]\n",
    "        f = get_shape_function(d, shape, alpha_1, cutoff)\n",
    "        fs.append(f)\n",
    "    \n",
    "    f = get_shape_function(d, shape, alpha[1], cutoff)\n",
    "    fs.append(f)\n",
    "    F.append(fs)\n",
    "F = np.array(F)\n",
    "F.shape"
   ]
  },
  {
   "cell_type": "code",
   "execution_count": 93,
   "id": "d5f2895d",
   "metadata": {},
   "outputs": [],
   "source": [
    "np.save(f'data/non_stationary/{shape}/F.npy', F)\n",
    "# F = np.load('data/nst_sim/F.npy')"
   ]
  },
  {
   "cell_type": "code",
   "execution_count": 92,
   "id": "cc72cdd7",
   "metadata": {
    "scrolled": true
   },
   "outputs": [
    {
     "data": {
      "text/plain": [
       "<matplotlib.collections.PathCollection at 0x14143e4c0>"
      ]
     },
     "execution_count": 92,
     "metadata": {},
     "output_type": "execute_result"
    },
    {
     "data": {
      "image/png": "[encoded data removed]",
      "text/plain": [
       "<Figure size 432x288 with 1 Axes>"
      ]
     },
     "metadata": {
      "needs_background": "light"
     },
     "output_type": "display_data"
    }
   ],
   "source": [
    "plt.scatter(d, F[0, 10, :])"
   ]
  },
  {
   "cell_type": "code",
   "execution_count": null,
   "id": "427bc9bb",
   "metadata": {},
   "outputs": [],
   "source": []
  },
  {
   "cell_type": "markdown",
   "id": "f2152e3e",
   "metadata": {},
   "source": [
    "## 1. Forecasting"
   ]
  },
  {
   "cell_type": "code",
   "execution_count": null,
   "id": "5d912504",
   "metadata": {},
   "outputs": [],
   "source": [
    "plt.figure(figsize=(8,5))\n",
    "plt.plot(range(0,500), out[0][1, :], c='b', label='Real Values')\n",
    "plt.plot(range(0, 500), out[1][1, :], c='r', label='Forecasts')\n",
    "plt.xlabel('Time')\n",
    "plt.legend(fontsize='medium', loc='upper left')\n",
    "plt.title('Non-Stationary Simulation')\n",
    "plt.grid()\n",
    "plt.show()"
   ]
  },
  {
   "cell_type": "code",
   "execution_count": null,
   "id": "1e8b15dc",
   "metadata": {},
   "outputs": [],
   "source": [
    "plot_forecast(out[0], out[1], 6, 5, 300, 500, (16,7))"
   ]
  },
  {
   "cell_type": "markdown",
   "id": "65133b33",
   "metadata": {},
   "source": [
    "## 2. Shape function"
   ]
  },
  {
   "cell_type": "code",
   "execution_count": 94,
   "id": "f88c7e30",
   "metadata": {},
   "outputs": [],
   "source": [
    "F_hats = []\n",
    "for i in range(5):\n",
    "    out = load_pickle(f'output/non_stationary/{shape}/out{i}.pickle')\n",
    "    f = out[2].transpose()\n",
    "    F_hats.append(f)\n",
    "F_hats = np.stack(F_hats)"
   ]
  },
  {
   "cell_type": "code",
   "execution_count": 95,
   "id": "c8d2f46e",
   "metadata": {},
   "outputs": [
    {
     "data": {
      "text/plain": [
       "((30, 900), (30, 900))"
      ]
     },
     "execution_count": 95,
     "metadata": {},
     "output_type": "execute_result"
    }
   ],
   "source": [
    "idx = range(0, 300, 10)\n",
    "F_agg = F[:, idx, :].mean(0)\n",
    "F_hat_agg = F_hats[:, idx, :].mean(0)\n",
    "F_agg.shape, F_hat_agg.shape"
   ]
  },
  {
   "cell_type": "code",
   "execution_count": 54,
   "id": "5ddae700",
   "metadata": {
    "scrolled": true
   },
   "outputs": [
    {
     "data": {
      "text/plain": [
       "((30, 900), (30, 900))"
      ]
     },
     "execution_count": 54,
     "metadata": {},
     "output_type": "execute_result"
    }
   ],
   "source": [
    "# out = load_pickle('output/test.pickle')\n",
    "# idx = range(0, 300, 10)\n",
    "# F_hat_agg =  out[2].transpose()[idx, ]\n",
    "# F_agg = F[:, idx, :].mean(0)\n",
    "# F_agg.shape, F_hat_agg.shape"
   ]
  },
  {
   "cell_type": "code",
   "execution_count": 96,
   "id": "2a855bd3",
   "metadata": {},
   "outputs": [
    {
     "data": {
      "text/plain": [
       "(array([0.00180734, 0.00052049, 0.00056082, 0.00052938, 0.00096349,\n",
       "        0.0002523 , 0.00041266, 0.00046845, 0.000683  , 0.00084144,\n",
       "        0.0001454 , 0.00042362, 0.00124096, 0.00052837, 0.00031728,\n",
       "        0.00039629, 0.00046274, 0.00044502, 0.00044857, 0.00054626,\n",
       "        0.00043657, 0.00037319, 0.00102461, 0.00012733, 0.00050572,\n",
       "        0.00051249, 0.00041692, 0.00120921, 0.00019738, 0.00039617]),\n",
       " array([0.02264331, 0.01560889, 0.01640933, 0.01579622, 0.02137771,\n",
       "        0.00592841, 0.01238293, 0.01417358, 0.01828891, 0.02022927,\n",
       "        0.00187753, 0.01286345, 0.02216752, 0.01576176, 0.00868196,\n",
       "        0.0119039 , 0.01391191, 0.01333593, 0.01338437, 0.01607229,\n",
       "        0.01311283, 0.01059429, 0.02146836, 0.00161433, 0.01521605,\n",
       "        0.01537585, 0.01268663, 0.02202095, 0.00352118, 0.01185576],\n",
       "       dtype=float32))"
      ]
     },
     "execution_count": 96,
     "metadata": {},
     "output_type": "execute_result"
    }
   ],
   "source": [
    "F_agg[0, :30], F_hat_agg[0, :30] "
   ]
  },
  {
   "cell_type": "code",
   "execution_count": 87,
   "id": "cf241ab7",
   "metadata": {
    "scrolled": true
   },
   "outputs": [
    {
     "data": {
      "image/png": "[encoded data removed]",
      "text/plain": [
       "<Figure size 1152x720 with 30 Axes>"
      ]
     },
     "metadata": {
      "needs_background": "light"
     },
     "output_type": "display_data"
    }
   ],
   "source": [
    "plot_sf(d, F_agg, F_hat_agg, 6, 5, 200, (16, 10))"
   ]
  },
  {
   "cell_type": "markdown",
   "id": "ba105bad",
   "metadata": {},
   "source": [
    "## 3. Multi-Step"
   ]
  },
  {
   "cell_type": "code",
   "execution_count": null,
   "id": "6cf9721a",
   "metadata": {},
   "outputs": [],
   "source": [
    "h1 = load_pickle('output/nst_sim_h1.pickle')\n",
    "h2 = load_pickle('output/nst_sim_h10.pickle')\n"
   ]
  },
  {
   "cell_type": "code",
   "execution_count": null,
   "id": "df579d9e",
   "metadata": {},
   "outputs": [],
   "source": [
    "ts = 500\n",
    "fig, axs = plt.subplots(1, 2, figsize=(18,8))\n",
    "axs[0].plot(h1[0][10, -ts:], c='b')\n",
    "axs[0].plot(h1[1][10, -ts:], c='r')\n",
    "axs[0].title.set_text('h = 1')\n",
    "\n",
    "axs[1].plot(h2[0][10, -ts:], c='b')\n",
    "axs[1].plot(h2[1][10, -ts:], c='r')\n",
    "axs[1].title.set_text('h = 5')\n",
    "plt.show()"
   ]
  },
  {
   "cell_type": "markdown",
   "id": "1c8e39f5",
   "metadata": {},
   "source": [
    "# Baselines"
   ]
  },
  {
   "cell_type": "code",
   "execution_count": null,
   "id": "39673feb",
   "metadata": {},
   "outputs": [],
   "source": [
    "dataset = 'nst_sim'\n",
    "horizon = 1\n",
    "loc, n = 30, 500"
   ]
  },
  {
   "cell_type": "code",
   "execution_count": null,
   "id": "82b4c638",
   "metadata": {},
   "outputs": [],
   "source": [
    "#  Scale data and horizon\n",
    "# data = scale(data, 0.3, 0)"
   ]
  },
  {
   "cell_type": "code",
   "execution_count": null,
   "id": "0794f41a",
   "metadata": {},
   "outputs": [],
   "source": [
    "x_offsets = np.sort(np.concatenate((np.arange(1-horizon, 1, 1),)))\n",
    "y_offsets = np.sort(np.arange(1, 1+horizon, 1))\n",
    "x_ids, y_ids = [], []\n",
    "min_t = abs(min(x_offsets))\n",
    "max_t = abs(n - abs(max(y_offsets)))  # Exclusive\n",
    "for t in range(min_t, max_t):\n",
    "    x_ids.extend(t + x_offsets)\n",
    "    y_ids.extend(t + y_offsets)"
   ]
  },
  {
   "cell_type": "code",
   "execution_count": null,
   "id": "949450ec",
   "metadata": {},
   "outputs": [],
   "source": [
    "def aggregate(v, n=7320, h=20, loc=30):\n",
    "    out = [np.zeros((1, loc)) for _ in range(n)]\n",
    "    cnt = [np.ones((1, loc)) for _ in range(h)] + [np.zeros((1, loc)) for _ in range(n-h)]\n",
    "    L = len(y_ids)\n",
    "    for l in range(L):\n",
    "        i = y_ids[l] \n",
    "        out[i] += v[l, :]\n",
    "        cnt[i] += 1\n",
    "\n",
    "    outs = np.concatenate(out)\n",
    "    cnts = np.concatenate(cnt)\n",
    "    return (outs/cnts).transpose()"
   ]
  },
  {
   "cell_type": "code",
   "execution_count": null,
   "id": "73175c09",
   "metadata": {},
   "outputs": [],
   "source": [
    "def load_outputs(path, n, h, loc):\n",
    "    data = np.load(path)\n",
    "    input, pred, label = data['input'], data['prediction'], data['truth']\n",
    "    \n",
    "    \n",
    "    if 'DC-RNN' in path:\n",
    "        pred, label = pred.swapaxes(0,1), label.swapaxes(0,1)\n",
    "        \n",
    "    predictions = aggregate(pred.reshape(-1, loc), n, h, loc)\n",
    "    labels = aggregate(label.reshape(-1, loc), n, h, loc)\n",
    "#     print(input.shape, pred.shape, label.shape, '//', predictions.shape, labels.shape)\n",
    "    \n",
    "    return predictions, labels"
   ]
  },
  {
   "cell_type": "markdown",
   "id": "58a58ab4",
   "metadata": {},
   "source": [
    "## Visualization"
   ]
  },
  {
   "cell_type": "code",
   "execution_count": null,
   "id": "f55f1849",
   "metadata": {},
   "outputs": [],
   "source": [
    "def compute_metrics(name, p, l, horizon, size = None):\n",
    "    if size:\n",
    "        p = p[:, -size:]\n",
    "        l = l[:, -size:]\n",
    "    # Mean absolute error\n",
    "    mae = (np.abs(p - l) / horizon).mean()\n",
    "\n",
    "    # Mean Absolute Percentage Error\n",
    "    smape = 2.0 * (np.abs(l-p)/(np.abs(l+1e-10)+np.abs(p+1e-10))).mean()\n",
    "\n",
    "    # Root Mean Squared Error\n",
    "    rmse = ((p - l)**2 / horizon).mean(-1)\n",
    "    rmse = np.sqrt(rmse).mean()\n",
    "\n",
    "\n",
    "    return mae, smape, rmse"
   ]
  },
  {
   "cell_type": "code",
   "execution_count": null,
   "id": "817b530b",
   "metadata": {
    "scrolled": true
   },
   "outputs": [],
   "source": [
    "def get_result(i, horizon, collector):\n",
    "    \n",
    "    for name in names:\n",
    "        p, l = load_outputs(f'{name}/data/{dataset}/output/preds{i}.npz', n, horizon, loc)\n",
    "        out = compute_metrics(name, p, l, horizon)\n",
    "        collector[name]['mae'].append(out[0])\n",
    "        collector[name]['smape'].append(out[1])\n",
    "        collector[name]['rmse'].append(out[2])\n",
    "    return collector"
   ]
  },
  {
   "cell_type": "code",
   "execution_count": null,
   "id": "da279470",
   "metadata": {},
   "outputs": [],
   "source": [
    "names = ['DC-RNN', 'FC-GAGA', 'GMAN', 'ConvLSTM']\n",
    "collector = {}\n",
    "for name in names:\n",
    "    collector[name] = {\"mae\": [], \"smape\": [], \"rmse\": []}"
   ]
  },
  {
   "cell_type": "code",
   "execution_count": null,
   "id": "0d8b347e",
   "metadata": {
    "scrolled": true
   },
   "outputs": [],
   "source": [
    "for i in tqdm(range(100)):\n",
    "    collector = get_result(i, horizon, collector)    "
   ]
  },
  {
   "cell_type": "code",
   "execution_count": null,
   "id": "629c966b",
   "metadata": {},
   "outputs": [],
   "source": [
    "for name in names:\n",
    "    means, stds = [], []\n",
    "    for metric in ['mae', 'smape', 'rmse']:\n",
    "        m = np.array(collector[name][metric]).mean()\n",
    "        s = stats.sem(collector[name][metric])\n",
    "        means.append(m)\n",
    "        stds.append(s)\n",
    "    print(f\"{name} & {means[0]:.3f}\\pm{stds[0]:.3f} & {means[1]:.3f}\\pm{stds[1]:.3f} & {means[2]:.3f}\\pm{stds[2]:.3f} \\\\\\\\\")"
   ]
  },
  {
   "cell_type": "code",
   "execution_count": null,
   "id": "dfc17f40",
   "metadata": {},
   "outputs": [],
   "source": [
    "dataset = 'st_sim' if dataset == 'sim' else dataset\n",
    "mae, smape, rmse = [], [], []\n",
    "iter = range(100)\n",
    "for i in tqdm(iter):\n",
    "    p = np.load(f'output/{dataset}/preds{i}.npy')\n",
    "    l = pd.read_csv(f'data/{dataset}/csv/s{i}.csv')\n",
    "    l = l.iloc[:, 1:].to_numpy()\n",
    "    a, b, c = compute_metrics('Shape function', p, l , horizon)\n",
    "    mae.append(a)\n",
    "    smape.append(b)\n",
    "    rmse.append(c)\n",
    "\n",
    "A = np.array(mae).mean(), stats.sem(mae)\n",
    "B = np.array(smape).mean(), stats.sem(smape)\n",
    "C = np.array(rmse).mean(), stats.sem(rmse)\n",
    "print(f\"Shape function & {A[0]:.3f}\\pm{A[1]:.3f} & {B[0]:.3f}\\pm{B[1]:.3f} & {C[0]:.3f}\\pm{C[1]:.3f} \\\\\\\\\")"
   ]
  },
  {
   "cell_type": "markdown",
   "id": "a14ca405",
   "metadata": {},
   "source": [
    "## Mine /Air"
   ]
  },
  {
   "cell_type": "code",
   "execution_count": 5,
   "id": "4c090d2a",
   "metadata": {},
   "outputs": [],
   "source": [
    "ids, d = load_pickle('data/air/sample.pickle')"
   ]
  },
  {
   "cell_type": "code",
   "execution_count": 6,
   "id": "4c385bfa",
   "metadata": {},
   "outputs": [],
   "source": [
    "out = load_pickle('output/air.pickle')"
   ]
  },
  {
   "cell_type": "code",
   "execution_count": 7,
   "id": "a6238a01",
   "metadata": {},
   "outputs": [
    {
     "data": {
      "text/plain": [
       "((33, 400), (33, 400), (1089, 300))"
      ]
     },
     "execution_count": 7,
     "metadata": {},
     "output_type": "execute_result"
    }
   ],
   "source": [
    "out[0].shape, out[1].shape, out[2].shape"
   ]
  },
  {
   "cell_type": "code",
   "execution_count": null,
   "id": "45e96af2",
   "metadata": {
    "scrolled": true
   },
   "outputs": [],
   "source": [
    "n = 10\n",
    "plt.figure(figsize=(10,5))\n",
    "plt.plot(out[0][n, 300:], c='b', label='Real Values')\n",
    "plt.plot(out[1][n, 300:], c='r', label='Forecasts')\n",
    "plt.xlabel('Time')\n",
    "plt.legend(fontsize='medium', loc='upper right')\n",
    "plt.title('Stationary Simulation')\n",
    "plt.grid()\n",
    "plt.show()"
   ]
  },
  {
   "cell_type": "code",
   "execution_count": null,
   "id": "193994e1",
   "metadata": {
    "scrolled": false
   },
   "outputs": [],
   "source": [
    "plot_forecast(out[0], out[1], 6, 5, 300, 400, (16,7))"
   ]
  },
  {
   "cell_type": "code",
   "execution_count": 11,
   "id": "745630b8",
   "metadata": {},
   "outputs": [
    {
     "data": {
      "text/plain": [
       "(1089, 300)"
      ]
     },
     "execution_count": 11,
     "metadata": {},
     "output_type": "execute_result"
    }
   ],
   "source": [
    "out[2].shape"
   ]
  },
  {
   "cell_type": "code",
   "execution_count": 12,
   "id": "dfbadb82",
   "metadata": {},
   "outputs": [
    {
     "data": {
      "text/plain": [
       "(10, 1089)"
      ]
     },
     "execution_count": 12,
     "metadata": {},
     "output_type": "execute_result"
    }
   ],
   "source": [
    "idx = range(0, 50, 5)\n",
    "f = out[2].transpose()[idx, ]\n",
    "f.shape"
   ]
  },
  {
   "cell_type": "code",
   "execution_count": null,
   "id": "13ceb853",
   "metadata": {
    "scrolled": false
   },
   "outputs": [],
   "source": [
    "plot_sf(d, f, f, 5, 2, 150, (16, 10), 100)"
   ]
  }
 ],
 "metadata": {
  "interpreter": {
   "hash": "1688c8c8b3141dfe96adf7a57b6468d95b56c400840a60e1c5e8d27f4ad0f81c"
  },
  "kernelspec": {
   "display_name": "pypro",
   "language": "python",
   "name": "pypro"
  },
  "language_info": {
   "codemirror_mode": {
    "name": "ipython",
    "version": 3
   },
   "file_extension": ".py",
   "mimetype": "text/x-python",
   "name": "python",
   "nbconvert_exporter": "python",
   "pygments_lexer": "ipython3",
   "version": "3.9.10"
  }
 },
 "nbformat": 4,
 "nbformat_minor": 5
}
