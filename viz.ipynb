{
 "cells": [
  {
   "cell_type": "markdown",
   "id": "cf1c0eee",
   "metadata": {},
   "source": [
    "## Imports"
   ]
  },
  {
   "cell_type": "code",
   "execution_count": 1,
   "id": "4ca714f8",
   "metadata": {},
   "outputs": [],
   "source": [
    "import scipy.io, random\n",
    "import numpy as np\n",
    "from utils import *\n",
    "import matplotlib.pyplot as plt"
   ]
  },
  {
   "cell_type": "markdown",
   "id": "58887af9",
   "metadata": {},
   "source": [
    "## Utils"
   ]
  },
  {
   "cell_type": "code",
   "execution_count": 2,
   "id": "e5d683be",
   "metadata": {},
   "outputs": [],
   "source": [
    "def plot_forecast(source, prediction, nrow=5, ncol=5, from_=2800, to_=None):\n",
    "    n = source.shape[0]\n",
    "    idx = list(range(n))\n",
    "    fig, axs = plt.subplots(nrow, ncol, figsize=(15,8), sharex=True)\n",
    "    if to_ is None:\n",
    "        to_ = source.shape[1]\n",
    "    i = 0\n",
    "    for r in range(nrow):\n",
    "        for c in range(ncol):\n",
    "            axs[r,c].plot(source[idx[i], from_:to_], c='b')\n",
    "            axs[r,c].plot(prediction[idx[i], from_:to_], c='r')\n",
    "\n",
    "            i += 1\n",
    "    fig.tight_layout()\n",
    "    plt.show()"
   ]
  },
  {
   "cell_type": "code",
   "execution_count": 3,
   "id": "d10e5b03",
   "metadata": {},
   "outputs": [],
   "source": [
    "def plot_shape_function(d, F1, F2, nrow=5, ncol=5):\n",
    "    n = F1.shape[1]\n",
    "    idx = random.sample(range(n), nrow * ncol)\n",
    "    fig, axs = plt.subplots(nrow, ncol, figsize=(15,8), sharex=True)\n",
    "    i = 0\n",
    "    for r in range(nrow):\n",
    "        for c in range(ncol):\n",
    "            if F2 is not None:\n",
    "                axs[r,c].scatter(d, F1[:, idx[i]], c='b')\n",
    "                axs[r,c].scatter(d, F2[:, idx[i]], c='r')\n",
    "            else:\n",
    "                axs[r,c].scatter(d, F1[:, idx[i]])\n",
    "            i += 1\n",
    "    fig.tight_layout()\n",
    "    plt.show()"
   ]
  },
  {
   "cell_type": "code",
   "execution_count": 4,
   "id": "7ab22106",
   "metadata": {},
   "outputs": [],
   "source": [
    "## Colors\n",
    "# import matplotlib.colors as mcolors\n",
    "# size = out[2].shape[1]\n",
    "# colors = list(mcolors.CSS4_COLORS.keys())\n",
    "# indices = random.choices(range(len(colors)), k=size)"
   ]
  },
  {
   "cell_type": "code",
   "execution_count": 5,
   "id": "6c0d6b38",
   "metadata": {},
   "outputs": [],
   "source": [
    "def scale(X, max_, min_):\n",
    "    X_std = (X - X.min(axis=1).reshape(-1,1)) / ((X.max(axis=1) - X.min(axis=1)).reshape(-1,1))\n",
    "    X_std = X_std * (max_ - min_) + min_\n",
    "    return X_std"
   ]
  },
  {
   "cell_type": "markdown",
   "id": "e2bd7cf8",
   "metadata": {},
   "source": [
    "## Check data"
   ]
  },
  {
   "cell_type": "code",
   "execution_count": 78,
   "id": "3a6d6001",
   "metadata": {},
   "outputs": [],
   "source": [
    "data = np.load('data/nst_sim.npy')"
   ]
  },
  {
   "cell_type": "code",
   "execution_count": null,
   "id": "cdd74706",
   "metadata": {},
   "outputs": [],
   "source": [
    "plt.figure(figsize=(20,10))\n",
    "plt.plot(data[2, :5000])"
   ]
  },
  {
   "cell_type": "markdown",
   "id": "7352daff",
   "metadata": {},
   "source": [
    "## Forecasting"
   ]
  },
  {
   "cell_type": "code",
   "execution_count": 108,
   "id": "f107934a",
   "metadata": {},
   "outputs": [],
   "source": [
    "sim = load_pickle('output/nst_sim.pickle')"
   ]
  },
  {
   "cell_type": "code",
   "execution_count": 54,
   "id": "a9ae8001",
   "metadata": {},
   "outputs": [
    {
     "data": {
      "text/plain": [
       "((30, 3000), (30, 3000), (900, 1))"
      ]
     },
     "execution_count": 54,
     "metadata": {},
     "output_type": "execute_result"
    }
   ],
   "source": [
    "sim[0].shape, sim[1].shape, sim[2].shape"
   ]
  },
  {
   "cell_type": "code",
   "execution_count": null,
   "id": "7976d9e2",
   "metadata": {
    "scrolled": false
   },
   "outputs": [],
   "source": [
    "plt.figure(figsize=(20,8))\n",
    "# plt.plot(sim[0][0, :], c='b')\n",
    "plt.plot(sim[1][0, :], c='r')\n",
    "\n",
    "plt.show()"
   ]
  },
  {
   "cell_type": "code",
   "execution_count": null,
   "id": "e2da7982",
   "metadata": {
    "scrolled": false
   },
   "outputs": [],
   "source": [
    "plot_forecast(sim[0], sim[1], 6, 5, 0, 3000)"
   ]
  },
  {
   "cell_type": "markdown",
   "id": "761888c0",
   "metadata": {},
   "source": [
    "## Shape Function"
   ]
  },
  {
   "cell_type": "code",
   "execution_count": 5,
   "id": "a5b3ffae",
   "metadata": {},
   "outputs": [],
   "source": [
    "ids, d, _ = load_pickle('data/sample.pickle')\n",
    "d_norm = d\n",
    "F = np.log(d_norm+1)"
   ]
  },
  {
   "cell_type": "code",
   "execution_count": 109,
   "id": "228ef74c",
   "metadata": {},
   "outputs": [
    {
     "data": {
      "image/png": "[encoded data removed]",
      "text/plain": [
       "<Figure size 1440x720 with 1 Axes>"
      ]
     },
     "metadata": {
      "needs_background": "light"
     },
     "output_type": "display_data"
    }
   ],
   "source": [
    "l = 0\n",
    "plt.figure(figsize=(20,10))\n",
    "plt.scatter(d_norm[:], F[:, ], c='b')\n",
    "plt.scatter(d_norm, sim[2][:, 0], c='r')\n",
    "plt.show()"
   ]
  },
  {
   "cell_type": "code",
   "execution_count": null,
   "id": "97063b08",
   "metadata": {},
   "outputs": [],
   "source": [
    "plot_shape_function(d_norm, sim[2], None, 5, 5)"
   ]
  },
  {
   "cell_type": "markdown",
   "id": "1c8e39f5",
   "metadata": {},
   "source": [
    "## Baselines Comparison"
   ]
  },
  {
   "cell_type": "code",
   "execution_count": 6,
   "id": "39673feb",
   "metadata": {},
   "outputs": [],
   "source": [
    "dataset = 'sim'"
   ]
  },
  {
   "cell_type": "code",
   "execution_count": 7,
   "id": "df2dbb95",
   "metadata": {},
   "outputs": [],
   "source": [
    "data = np.load(f'data/{dataset}.npy')\n",
    "loc, n = data.shape"
   ]
  },
  {
   "cell_type": "code",
   "execution_count": 8,
   "id": "82b4c638",
   "metadata": {},
   "outputs": [],
   "source": [
    "#  Scale data and horizon\n",
    "# data = scale(data, 0.3, 0)"
   ]
  },
  {
   "cell_type": "code",
   "execution_count": 8,
   "id": "c64dc491",
   "metadata": {},
   "outputs": [],
   "source": [
    "# Set horizon\n",
    "horizon = 5"
   ]
  },
  {
   "cell_type": "code",
   "execution_count": 9,
   "id": "0794f41a",
   "metadata": {},
   "outputs": [],
   "source": [
    "x_offsets = np.sort(np.concatenate((np.arange(1-horizon, 1, 1),)))\n",
    "y_offsets = np.sort(np.arange(1, 1+horizon, 1))\n",
    "x_ids, y_ids = [], []\n",
    "min_t = abs(min(x_offsets))\n",
    "max_t = abs(n - abs(max(y_offsets)))  # Exclusive\n",
    "for t in range(min_t, max_t):\n",
    "    x_ids.extend(t + x_offsets)\n",
    "    y_ids.extend(t + y_offsets)"
   ]
  },
  {
   "cell_type": "code",
   "execution_count": 10,
   "id": "949450ec",
   "metadata": {},
   "outputs": [],
   "source": [
    "def aggregate(v, n=7320, h=20, loc=30):\n",
    "    out = [np.zeros((1, loc)) for _ in range(n)]\n",
    "    cnt = [np.ones((1, loc)) for _ in range(h)] + [np.zeros((1, loc)) for _ in range(n-h)]\n",
    "    L = len(y_ids)\n",
    "    for l in range(L):\n",
    "        i = y_ids[l] \n",
    "        out[i] += v[l, :]\n",
    "        cnt[i] += 1\n",
    "\n",
    "    outs = np.concatenate(out)\n",
    "    cnts = np.concatenate(cnt)\n",
    "    return (outs/cnts).transpose()"
   ]
  },
  {
   "cell_type": "code",
   "execution_count": 19,
   "id": "73175c09",
   "metadata": {},
   "outputs": [],
   "source": [
    "def load_outputs(path, n, h, loc):\n",
    "    data = np.load(path)\n",
    "    input, pred, label = data['input'], data['prediction'], data['truth']\n",
    "    \n",
    "    \n",
    "    if 'DC-RNN' in path:\n",
    "        pred, label = pred.swapaxes(0,1), label.swapaxes(0,1)\n",
    "        \n",
    "    predictions = aggregate(pred.reshape(-1, loc), n, h, loc)\n",
    "    labels = aggregate(label.reshape(-1, loc), n, h, loc)\n",
    "    print(input.shape, pred.shape, label.shape, '//', predictions.shape, labels.shape)\n",
    "    \n",
    "    return predictions, labels"
   ]
  },
  {
   "cell_type": "markdown",
   "id": "58a58ab4",
   "metadata": {},
   "source": [
    "## Visualization"
   ]
  },
  {
   "cell_type": "code",
   "execution_count": 20,
   "id": "817b530b",
   "metadata": {
    "scrolled": true
   },
   "outputs": [
    {
     "name": "stdout",
     "output_type": "stream",
     "text": [
      "DC-RNN\n",
      "(5, 500, 30) (500, 5, 30) (500, 5, 30) // (30, 500) (30, 500)\n",
      "FC-GAGA\n",
      "(491, 30, 5, 1) (491, 30, 5) (491, 30, 5) // (30, 500) (30, 500)\n",
      "GMAN\n",
      "(491, 5, 30) (491, 5, 30) (491, 5, 30) // (30, 500) (30, 500)\n",
      "ConvLSTM\n",
      "(491, 5, 10, 3) (491, 5, 10, 3) (491, 5, 10, 3) // (30, 500) (30, 500)\n"
     ]
    }
   ],
   "source": [
    "names = ['DC-RNN', 'FC-GAGA', 'GMAN', 'ConvLSTM']\n",
    "preds = []\n",
    "labels = []\n",
    "for name in names:\n",
    "    print(name)\n",
    "    p, l = load_outputs(f'{name}/data/{dataset}/full_predictions.npz', n, horizon, loc)\n",
    "    preds.append(p)\n",
    "    labels.append(l)"
   ]
  },
  {
   "cell_type": "code",
   "execution_count": 22,
   "id": "20f33aca",
   "metadata": {},
   "outputs": [],
   "source": [
    "i = 10"
   ]
  },
  {
   "cell_type": "code",
   "execution_count": 27,
   "id": "926e0cef",
   "metadata": {},
   "outputs": [
    {
     "data": {
      "text/plain": [
       "(0.12433704733848572,\n",
       " 0.034565917262807486,\n",
       " 0.12433704733848572,\n",
       " 0.124337048515311)"
      ]
     },
     "execution_count": 27,
     "metadata": {},
     "output_type": "execute_result"
    }
   ],
   "source": [
    "labels[0][i, 10], labels[1][i, 10], labels[2][i, 10], labels[3][i, 10]"
   ]
  },
  {
   "cell_type": "code",
   "execution_count": 28,
   "id": "0b045155",
   "metadata": {},
   "outputs": [
    {
     "data": {
      "text/plain": [
       "(0.19487221539020538,\n",
       " 0.14383842498064042,\n",
       " 0.4346563994884491,\n",
       " 0.5784735977649689)"
      ]
     },
     "execution_count": 28,
     "metadata": {},
     "output_type": "execute_result"
    }
   ],
   "source": [
    "preds[0][i, 10], preds[1][i, 10], preds[2][i, 10], preds[3][i, 10]"
   ]
  },
  {
   "cell_type": "code",
   "execution_count": 50,
   "id": "8eb0b28a",
   "metadata": {},
   "outputs": [
    {
     "data": {
      "text/plain": [
       "[<matplotlib.lines.Line2D at 0x129d5a940>]"
      ]
     },
     "execution_count": 50,
     "metadata": {},
     "output_type": "execute_result"
    },
    {
     "data": {
      "image/png": "[encoded data removed]",
      "text/plain": [
       "<Figure size 432x288 with 1 Axes>"
      ]
     },
     "metadata": {
      "needs_background": "light"
     },
     "output_type": "display_data"
    }
   ],
   "source": [
    "plt.plot(labels[1][i, 300:500], color='blue')\n",
    "# plt.plot(preds[0][i, 300:500], color='red')\n",
    "plt.plot(preds[1][i, 300:500], color='green')\n",
    "# plt.plot(preds[2][i, 300:500], color='pink')\n",
    "# plt.plot(preds[3][i, 300:500], color='black')"
   ]
  }
 ],
 "metadata": {
  "interpreter": {
   "hash": "1688c8c8b3141dfe96adf7a57b6468d95b56c400840a60e1c5e8d27f4ad0f81c"
  },
  "kernelspec": {
   "display_name": "pypro",
   "language": "python",
   "name": "pypro"
  },
  "language_info": {
   "codemirror_mode": {
    "name": "ipython",
    "version": 3
   },
   "file_extension": ".py",
   "mimetype": "text/x-python",
   "name": "python",
   "nbconvert_exporter": "python",
   "pygments_lexer": "ipython3",
   "version": "3.9.10"
  }
 },
 "nbformat": 4,
 "nbformat_minor": 5
}
