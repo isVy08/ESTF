{
 "cells": [
  {
   "cell_type": "markdown",
   "id": "cf1c0eee",
   "metadata": {},
   "source": [
    "## Imports"
   ]
  },
  {
   "cell_type": "code",
   "execution_count": 1,
   "id": "4ca714f8",
   "metadata": {},
   "outputs": [],
   "source": [
    "import scipy.io, random\n",
    "import numpy as np\n",
    "from utils import *\n",
    "import matplotlib.pyplot as plt\n",
    "from tqdm import tqdm\n",
    "import pandas as pd"
   ]
  },
  {
   "cell_type": "markdown",
   "id": "58887af9",
   "metadata": {},
   "source": [
    "## Utils"
   ]
  },
  {
   "cell_type": "code",
   "execution_count": 2,
   "id": "e5d683be",
   "metadata": {},
   "outputs": [],
   "source": [
    "def plot_forecast(source, prediction, nrow=5, ncol=5, from_=2800, to_=None):\n",
    "    n = source.shape[0]\n",
    "    idx = list(range(n))\n",
    "    fig, axs = plt.subplots(nrow, ncol, figsize=(15,8), sharex=True)\n",
    "    if to_ is None:\n",
    "        to_ = source.shape[1]\n",
    "    i = 0\n",
    "    for r in range(nrow):\n",
    "        for c in range(ncol):\n",
    "            axs[r,c].plot(source[idx[i], from_:to_], c='b')\n",
    "            axs[r,c].plot(prediction[idx[i], from_:to_], c='r')\n",
    "\n",
    "            i += 1\n",
    "    fig.tight_layout()\n",
    "    plt.show()"
   ]
  },
  {
   "cell_type": "code",
   "execution_count": 3,
   "id": "d10e5b03",
   "metadata": {},
   "outputs": [],
   "source": [
    "def plot_shape_function(d, F1, F2, nrow=5, ncol=5):\n",
    "    n = F1.shape[1]\n",
    "    idx = random.sample(range(n), nrow * ncol)\n",
    "    fig, axs = plt.subplots(nrow, ncol, figsize=(15,8), sharex=True)\n",
    "    i = 0\n",
    "    for r in range(nrow):\n",
    "        for c in range(ncol):\n",
    "            if F2 is not None:\n",
    "                axs[r,c].scatter(d, F1[:, idx[i]], c='b')\n",
    "                axs[r,c].scatter(d, F2[:, idx[i]], c='r')\n",
    "            else:\n",
    "                axs[r,c].scatter(d, F1[:, idx[i]])\n",
    "            i += 1\n",
    "    fig.tight_layout()\n",
    "    plt.show()"
   ]
  },
  {
   "cell_type": "code",
   "execution_count": 4,
   "id": "6c0d6b38",
   "metadata": {},
   "outputs": [],
   "source": [
    "def scale(X, max_, min_):\n",
    "    X_std = (X - X.min(axis=1).reshape(-1,1)) / ((X.max(axis=1) - X.min(axis=1)).reshape(-1,1))\n",
    "    X_std = X_std * (max_ - min_) + min_\n",
    "    return X_std"
   ]
  },
  {
   "cell_type": "code",
   "execution_count": 5,
   "id": "1a385a44",
   "metadata": {},
   "outputs": [],
   "source": [
    "def normalize(X):\n",
    "    X_std = (X - X.mean(1).reshape(-1, 1)) / X.std(1).reshape(-1, 1)\n",
    "    return X_std"
   ]
  },
  {
   "cell_type": "markdown",
   "id": "58ad9b53",
   "metadata": {},
   "source": [
    "## Init"
   ]
  },
  {
   "cell_type": "code",
   "execution_count": 2,
   "id": "a16ff636",
   "metadata": {},
   "outputs": [],
   "source": [
    "ids, d, _ = load_pickle('data/sample.pickle')"
   ]
  },
  {
   "cell_type": "code",
   "execution_count": null,
   "id": "9deecf93",
   "metadata": {
    "scrolled": true
   },
   "outputs": [],
   "source": [
    "df = pd.read_csv('data/nst_sim_data.csv')\n",
    "data = df.iloc[:, 1:].to_numpy()"
   ]
  },
  {
   "cell_type": "code",
   "execution_count": null,
   "id": "24a9756f",
   "metadata": {},
   "outputs": [],
   "source": [
    "#  Check data pattern\n",
    "i = 10\n",
    "plt.figure(figsize=(20,10))\n",
    "# plt.plot(data[i, :])\n",
    "plt.plot(data_std[i, :])"
   ]
  },
  {
   "cell_type": "markdown",
   "id": "5c68bf64",
   "metadata": {},
   "source": [
    "# Stationary"
   ]
  },
  {
   "cell_type": "markdown",
   "id": "7352daff",
   "metadata": {},
   "source": [
    "## 1. Forecasting"
   ]
  },
  {
   "cell_type": "code",
   "execution_count": null,
   "id": "282cc141",
   "metadata": {},
   "outputs": [],
   "source": [
    "sim = load_pickle('output/sim.pickle')"
   ]
  },
  {
   "cell_type": "code",
   "execution_count": null,
   "id": "a9ae8001",
   "metadata": {},
   "outputs": [],
   "source": [
    "sim[0].shape, sim[1].shape, sim[2].shape"
   ]
  },
  {
   "cell_type": "code",
   "execution_count": null,
   "id": "5bb7252a",
   "metadata": {},
   "outputs": [],
   "source": [
    "sim[0] - sim[1])"
   ]
  },
  {
   "cell_type": "code",
   "execution_count": null,
   "id": "7976d9e2",
   "metadata": {
    "scrolled": false
   },
   "outputs": [],
   "source": [
    "plt.figure(figsize=(20,8))\n",
    "plt.plot(sim[0][10, -200:], c='b')\n",
    "plt.plot(sim[1][10, -200:], c='r')\n",
    "\n",
    "plt.show()"
   ]
  },
  {
   "cell_type": "code",
   "execution_count": null,
   "id": "e2da7982",
   "metadata": {
    "scrolled": true
   },
   "outputs": [],
   "source": [
    "plot_forecast(sim[0], sim[1], 6, 5, 0, 500)"
   ]
  },
  {
   "cell_type": "markdown",
   "id": "761888c0",
   "metadata": {},
   "source": [
    "## 2. Shape Function"
   ]
  },
  {
   "cell_type": "code",
   "execution_count": null,
   "id": "a5b3ffae",
   "metadata": {},
   "outputs": [],
   "source": [
    "d_norm = d\n",
    "F = np.log(d_norm+1)"
   ]
  },
  {
   "cell_type": "code",
   "execution_count": null,
   "id": "228ef74c",
   "metadata": {},
   "outputs": [],
   "source": [
    "l = 200\n",
    "plt.figure(figsize=(20,10))\n",
    "plt.scatter(d_norm[:l], F[:l, ], c='b')\n",
    "plt.scatter(d_norm[:l], sim[2][:l, 0], c='r')\n",
    "plt.show()"
   ]
  },
  {
   "cell_type": "code",
   "execution_count": null,
   "id": "97063b08",
   "metadata": {},
   "outputs": [],
   "source": [
    "plot_shape_function(d_norm, sim[2], None, 5, 5)"
   ]
  },
  {
   "cell_type": "markdown",
   "id": "de36dfb7",
   "metadata": {},
   "source": [
    "## 3. Multi-Step"
   ]
  },
  {
   "cell_type": "code",
   "execution_count": 7,
   "id": "93cc96f9",
   "metadata": {},
   "outputs": [],
   "source": [
    "h1 = load_pickle('output/sim_h1.pickle')\n",
    "h2 = load_pickle('output/sim_h5.pickle')\n"
   ]
  },
  {
   "cell_type": "code",
   "execution_count": null,
   "id": "04088f2d",
   "metadata": {},
   "outputs": [],
   "source": [
    "ts = 200\n",
    "fig, axs = plt.subplots(1, 2, figsize=(18,8))\n",
    "axs[0].plot(h1[0][10, -ts:], c='b')\n",
    "axs[0].plot(h1[1][10, -ts:], c='r')\n",
    "axs[0].title.set_text('h = 1')\n",
    "\n",
    "axs[1].plot(h2[0][10, -ts:], c='b')\n",
    "axs[1].plot(h2[1][10, -ts:], c='r')\n",
    "axs[].title.set_text('h = 5')\n",
    "plt.show()"
   ]
  },
  {
   "cell_type": "markdown",
   "id": "62ede46d",
   "metadata": {},
   "source": [
    "# Non-Stationary"
   ]
  },
  {
   "cell_type": "code",
   "execution_count": 10,
   "id": "288018f3",
   "metadata": {
    "scrolled": false
   },
   "outputs": [],
   "source": [
    "out = load_pickle('output/nst_sim_v2.pickle')\n",
    "F = np.log(d+1)\n",
    "N, T = out[0].shape"
   ]
  },
  {
   "cell_type": "markdown",
   "id": "f2152e3e",
   "metadata": {},
   "source": [
    "## 1. Forecasting"
   ]
  },
  {
   "cell_type": "code",
   "execution_count": null,
   "id": "5d912504",
   "metadata": {},
   "outputs": [],
   "source": [
    "plt.figure(figsize=(20,8))\n",
    "i = 10\n",
    "\n",
    "plt.plot(out[0][i, :], c='b')\n",
    "plt.plot(out[1][i, :], c='r')\n",
    "\n",
    "\n",
    "plt.show()"
   ]
  },
  {
   "cell_type": "code",
   "execution_count": null,
   "id": "1e8b15dc",
   "metadata": {},
   "outputs": [],
   "source": [
    "plot_forecast(out[0], out[1], 6, 5, 1000, 2000)"
   ]
  },
  {
   "cell_type": "markdown",
   "id": "65133b33",
   "metadata": {},
   "source": [
    "## 2. Shape function"
   ]
  },
  {
   "cell_type": "code",
   "execution_count": 13,
   "id": "444e5f40",
   "metadata": {},
   "outputs": [
    {
     "data": {
      "image/png": "[encoded data removed]",
      "text/plain": [
       "<Figure size 1440x720 with 1 Axes>"
      ]
     },
     "metadata": {
      "needs_background": "light"
     },
     "output_type": "display_data"
    }
   ],
   "source": [
    "l = 200\n",
    "plt.figure(figsize=(20,10))\n",
    "plt.scatter(d[:l], F[:l, ], c='b')\n",
    "plt.scatter(d[:l], out[2][:l, 0], c='r')\n",
    "plt.show()"
   ]
  },
  {
   "cell_type": "code",
   "execution_count": 9,
   "id": "cf9e8121",
   "metadata": {},
   "outputs": [
    {
     "data": {
      "text/plain": [
       "torch.Size([30, 500])"
      ]
     },
     "execution_count": 9,
     "metadata": {},
     "output_type": "execute_result"
    }
   ],
   "source": [
    "out[0].shape"
   ]
  },
  {
   "cell_type": "markdown",
   "id": "ba105bad",
   "metadata": {},
   "source": [
    "## 3. Multi-Step"
   ]
  },
  {
   "cell_type": "code",
   "execution_count": null,
   "id": "6cf9721a",
   "metadata": {},
   "outputs": [],
   "source": [
    "h1 = load_pickle('output/nst_sim_h1.pickle')\n",
    "h2 = load_pickle('output/nst_sim_h10.pickle')\n"
   ]
  },
  {
   "cell_type": "code",
   "execution_count": null,
   "id": "df579d9e",
   "metadata": {},
   "outputs": [],
   "source": [
    "ts = 500\n",
    "fig, axs = plt.subplots(1, 2, figsize=(18,8))\n",
    "axs[0].plot(h1[0][10, -ts:], c='b')\n",
    "axs[0].plot(h1[1][10, -ts:], c='r')\n",
    "axs[0].title.set_text('h = 1')\n",
    "\n",
    "axs[1].plot(h2[0][10, -ts:], c='b')\n",
    "axs[1].plot(h2[1][10, -ts:], c='r')\n",
    "axs[1].title.set_text('h = 5')\n",
    "plt.show()"
   ]
  },
  {
   "cell_type": "markdown",
   "id": "1c8e39f5",
   "metadata": {},
   "source": [
    "# Baselines"
   ]
  },
  {
   "cell_type": "code",
   "execution_count": null,
   "id": "39673feb",
   "metadata": {},
   "outputs": [],
   "source": [
    "dataset = 'sim'\n",
    "horizon = 1"
   ]
  },
  {
   "cell_type": "code",
   "execution_count": null,
   "id": "df2dbb95",
   "metadata": {},
   "outputs": [],
   "source": [
    "data = np.load(f'data/{dataset}.npy')\n",
    "loc, n = data.shape\n",
    "print(loc, n)"
   ]
  },
  {
   "cell_type": "code",
   "execution_count": null,
   "id": "82b4c638",
   "metadata": {},
   "outputs": [],
   "source": [
    "#  Scale data and horizon\n",
    "# data = scale(data, 0.3, 0)"
   ]
  },
  {
   "cell_type": "code",
   "execution_count": null,
   "id": "0794f41a",
   "metadata": {},
   "outputs": [],
   "source": [
    "x_offsets = np.sort(np.concatenate((np.arange(1-horizon, 1, 1),)))\n",
    "y_offsets = np.sort(np.arange(1, 1+horizon, 1))\n",
    "x_ids, y_ids = [], []\n",
    "min_t = abs(min(x_offsets))\n",
    "max_t = abs(n - abs(max(y_offsets)))  # Exclusive\n",
    "for t in range(min_t, max_t):\n",
    "    x_ids.extend(t + x_offsets)\n",
    "    y_ids.extend(t + y_offsets)"
   ]
  },
  {
   "cell_type": "code",
   "execution_count": null,
   "id": "949450ec",
   "metadata": {},
   "outputs": [],
   "source": [
    "def aggregate(v, n=7320, h=20, loc=30):\n",
    "    out = [np.zeros((1, loc)) for _ in range(n)]\n",
    "    cnt = [np.ones((1, loc)) for _ in range(h)] + [np.zeros((1, loc)) for _ in range(n-h)]\n",
    "    L = len(y_ids)\n",
    "    for l in range(L):\n",
    "        i = y_ids[l] \n",
    "        out[i] += v[l, :]\n",
    "        cnt[i] += 1\n",
    "\n",
    "    outs = np.concatenate(out)\n",
    "    cnts = np.concatenate(cnt)\n",
    "    return (outs/cnts).transpose()"
   ]
  },
  {
   "cell_type": "code",
   "execution_count": null,
   "id": "73175c09",
   "metadata": {},
   "outputs": [],
   "source": [
    "def load_outputs(path, n, h, loc):\n",
    "    data = np.load(path)\n",
    "    input, pred, label = data['input'], data['prediction'], data['truth']\n",
    "    \n",
    "    \n",
    "    if 'DC-RNN' in path:\n",
    "        pred, label = pred.swapaxes(0,1), label.swapaxes(0,1)\n",
    "        \n",
    "    predictions = aggregate(pred.reshape(-1, loc), n, h, loc)\n",
    "    labels = aggregate(label.reshape(-1, loc), n, h, loc)\n",
    "#     print(input.shape, pred.shape, label.shape, '//', predictions.shape, labels.shape)\n",
    "    \n",
    "    return predictions, labels"
   ]
  },
  {
   "cell_type": "markdown",
   "id": "58a58ab4",
   "metadata": {},
   "source": [
    "## Visualization"
   ]
  },
  {
   "cell_type": "code",
   "execution_count": null,
   "id": "f55f1849",
   "metadata": {},
   "outputs": [],
   "source": [
    "def compute_metrics(name, p, l, horizon, size = None):\n",
    "    if size:\n",
    "        p = p[:, -size:]\n",
    "        l = l[:, -size:]\n",
    "    # Mean absolute error\n",
    "    mae = (np.abs(p - l) / horizon).mean()\n",
    "\n",
    "    # Mean Absolute Percentage Error\n",
    "    smape = 2.0 * (np.abs(l-p)/(np.abs(l+1e-10)+np.abs(p+1e-10))).mean()\n",
    "\n",
    "    # Root Mean Squared Error\n",
    "    rmse = ((p - l)**2 / horizon).mean(-1)\n",
    "    rmse = np.sqrt(rmse).mean()\n",
    "\n",
    "\n",
    "    return mae, smape, rmse"
   ]
  },
  {
   "cell_type": "code",
   "execution_count": null,
   "id": "817b530b",
   "metadata": {
    "scrolled": true
   },
   "outputs": [],
   "source": [
    "def get_result(i, horizon, collector):\n",
    "    \n",
    "    for name in names:\n",
    "        p, l = load_outputs(f'{name}/data/{dataset}/output/preds{i}.npz', n, horizon, loc)\n",
    "        out = compute_metrics(name, p, l, horizon)\n",
    "        collector[name]['mae'].append(out[0])\n",
    "        collector[name]['smape'].append(out[1])\n",
    "        collector[name]['rmse'].append(out[2])\n",
    "    return collector"
   ]
  },
  {
   "cell_type": "code",
   "execution_count": null,
   "id": "da279470",
   "metadata": {},
   "outputs": [],
   "source": [
    "names = ['DC-RNN', 'FC-GAGA', 'GMAN', 'ConvLSTM']\n",
    "collector = {}\n",
    "for name in names:\n",
    "    collector[name] = {\"mae\": [], \"smape\": [], \"rmse\": []}"
   ]
  },
  {
   "cell_type": "code",
   "execution_count": null,
   "id": "0d8b347e",
   "metadata": {
    "scrolled": true
   },
   "outputs": [],
   "source": [
    "for i in tqdm(range(100)):\n",
    "    collector = get_result(i, horizon, collector)    "
   ]
  },
  {
   "cell_type": "code",
   "execution_count": null,
   "id": "629c966b",
   "metadata": {},
   "outputs": [],
   "source": [
    "for name in names:\n",
    "    mae = np.array(collector[name]['mae']).mean()\n",
    "    smape = np.array(collector[name]['smape']).mean()\n",
    "    rmse = np.array(collector[name]['rmse']).mean()\n",
    "    print(f\"{name} & {mae:.4f} & {smape:.4f} & {rmse:.4f} \\\\\\\\\")"
   ]
  },
  {
   "cell_type": "code",
   "execution_count": null,
   "id": "dfc17f40",
   "metadata": {},
   "outputs": [],
   "source": [
    "mae, smape, rmse = 0, 0, 0\n",
    "iter = range(100)\n",
    "for i in tqdm(iter):\n",
    "    p = np.load(f'output/st_sim/preds{i}.npy')\n",
    "    l = pd.read_csv(f'data/st_sim/csv/s{i}.csv')\n",
    "    l = l.iloc[:, 1:].to_numpy()\n",
    "    a, b, c = compute_metrics('Shape function', p, l , horizon)\n",
    "    mae += a\n",
    "    smape += b\n",
    "    rmse += c\n",
    "\n",
    "mae /= len(iter)\n",
    "smape /= len(iter)\n",
    "rmse /= len(iter)\n",
    "print(f\"Shape function & {mae:.4f} & {smape:.4f} & {rmse:.4f} \\\\\\\\\")"
   ]
  },
  {
   "cell_type": "code",
   "execution_count": null,
   "id": "8eb0b28a",
   "metadata": {},
   "outputs": [],
   "source": [
    "fig, axs = plt.subplots(2, 2, figsize=(18,8))\n",
    "i = 0\n",
    "location = 10\n",
    "for r in range(2):\n",
    "    for c in range(2):\n",
    "        axs[r,c].plot(labels[i][location, -200:], color='blue')\n",
    "        axs[r,c].plot(preds[i][location, -200:], color='red')\n",
    "        axs[r,c].title.set_text(names[i])\n",
    "        i += 1\n"
   ]
  },
  {
   "cell_type": "code",
   "execution_count": null,
   "id": "36310374",
   "metadata": {},
   "outputs": [],
   "source": [
    "plt.figure(figsize=(18,8))\n",
    "plt.plot(sim[0][location, -200:], c='b')\n",
    "plt.plot(sim[1][location, -200:], c='r')\n",
    "plt.show()"
   ]
  }
 ],
 "metadata": {
  "interpreter": {
   "hash": "1688c8c8b3141dfe96adf7a57b6468d95b56c400840a60e1c5e8d27f4ad0f81c"
  },
  "kernelspec": {
   "display_name": "pypro",
   "language": "python",
   "name": "pypro"
  },
  "language_info": {
   "codemirror_mode": {
    "name": "ipython",
    "version": 3
   },
   "file_extension": ".py",
   "mimetype": "text/x-python",
   "name": "python",
   "nbconvert_exporter": "python",
   "pygments_lexer": "ipython3",
   "version": "3.9.10"
  }
 },
 "nbformat": 4,
 "nbformat_minor": 5
}
