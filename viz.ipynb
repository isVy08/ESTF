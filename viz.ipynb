{
 "cells": [
  {
   "cell_type": "markdown",
   "id": "cf1c0eee",
   "metadata": {},
   "source": [
    "## Imports"
   ]
  },
  {
   "cell_type": "code",
   "execution_count": 1,
   "id": "4ca714f8",
   "metadata": {},
   "outputs": [],
   "source": [
    "import scipy.io, random\n",
    "import numpy as np\n",
    "from utils import *\n",
    "import matplotlib.pyplot as plt\n",
    "from tqdm import tqdm\n",
    "import pandas as pd\n",
    "from scipy import stats"
   ]
  },
  {
   "cell_type": "markdown",
   "id": "58887af9",
   "metadata": {},
   "source": [
    "## Utils"
   ]
  },
  {
   "cell_type": "code",
   "execution_count": 2,
   "id": "e5d683be",
   "metadata": {},
   "outputs": [],
   "source": [
    "def plot_forecast(source, prediction, nrow=5, ncol=5, from_=2800, to_=None, figsize=(10,8), path=None):\n",
    "    n = source.shape[0]\n",
    "    idx = list(range(n))\n",
    "    fig, axs = plt.subplots(nrow, ncol, figsize=figsize, sharex=True)\n",
    "    if to_ is None:\n",
    "        to_ = source.shape[1]\n",
    "    i = 0\n",
    "    for r in range(nrow):\n",
    "        for c in range(ncol):\n",
    "            axs[r,c].plot(range(from_, to_), source[idx[i], from_:to_], c='b', label='Real values')\n",
    "            axs[r,c].plot(range(from_, to_), prediction[idx[i], from_:to_], c='r', label='Forecasts')\n",
    "            axs[r,c].grid()\n",
    "            i += 1\n",
    "            \n",
    "    fig.tight_layout()\n",
    "    handles, labels = fig.axes[0].get_legend_handles_labels()\n",
    "    fig.legend(handles, labels, ncol=2, fontsize='large', loc='upper center', bbox_to_anchor=(0.25, 0.55, 0.5, 0.5))\n",
    "    plt.setp(axs[-1, :], xlabel='Time')\n",
    "    if path:\n",
    "        fig.savefig(path, dpi=150, bbox_inches='tight')\n",
    "        plt.close(fig)    # close the figure window\n",
    "\n",
    "    else:\n",
    "        plt.show()"
   ]
  },
  {
   "cell_type": "code",
   "execution_count": 3,
   "id": "907a211d",
   "metadata": {},
   "outputs": [],
   "source": [
    "def read_data_from_csv(data_path):\n",
    "    df = pd.read_csv(data_path)\n",
    "    X = df.iloc[:, 1:].to_numpy()\n",
    "    return X"
   ]
  },
  {
   "cell_type": "code",
   "execution_count": 4,
   "id": "a8631775",
   "metadata": {},
   "outputs": [],
   "source": [
    "def plot_sf(d, F, F_hat, nrow=5, ncol=5, to_=None, figsize=(10,8), step=10, add=0, path=None):\n",
    "    fig, axs = plt.subplots(nrow, ncol, figsize=figsize, sharex=True)\n",
    "    if to_ is None:\n",
    "        to_ = F.shape[0]\n",
    "    i = 0\n",
    "    for r in range(nrow):\n",
    "        for c in range(ncol):\n",
    "            axs[r,c].scatter(d[:to_], F[i, :to_,], c='b', label='Actual SF')\n",
    "            axs[r,c].scatter(d[:to_], F_hat[i, :to_,], c='r', label='Estimated SF')\n",
    "            axs[r,c].title.set_text(f'Time = {i *step + add}')\n",
    "            axs[r,c].grid()\n",
    "            i += 1\n",
    "            \n",
    "    fig.tight_layout()\n",
    "    handles, labels = fig.axes[0].get_legend_handles_labels()\n",
    "    fig.legend(handles, labels, ncol=2, fontsize='large', loc='upper center', bbox_to_anchor=(0.25, 0.55, 0.5, 0.5))\n",
    "    plt.setp(axs[-1, :], xlabel='Distance')\n",
    "    if path:\n",
    "        fig.savefig(path, dpi=150, bbox_inches='tight')\n",
    "        plt.close(fig)    # close the figure window\n",
    "\n",
    "    else:\n",
    "        plt.show()"
   ]
  },
  {
   "cell_type": "code",
   "execution_count": 5,
   "id": "4ece9450",
   "metadata": {},
   "outputs": [],
   "source": [
    "import matplotlib.colors as mcolors\n",
    "colors = [v for k, v in mcolors.TABLEAU_COLORS.items()]"
   ]
  },
  {
   "cell_type": "code",
   "execution_count": 6,
   "id": "02109ea8",
   "metadata": {},
   "outputs": [],
   "source": [
    "def get_alphas(path):\n",
    "    alphas = pd.read_csv(path)\n",
    "    return alphas.iloc[:, 1:].to_numpy()"
   ]
  },
  {
   "cell_type": "markdown",
   "id": "58ad9b53",
   "metadata": {},
   "source": [
    "## Init"
   ]
  },
  {
   "cell_type": "markdown",
   "id": "c2ac7843",
   "metadata": {},
   "source": [
    "$$W_t = (w^{(t)}_{ij}) = \\frac{e^{\\hat{f}_t (D_{ij})}}{\\sum^n_{j=1} e^{\\hat{f}_t (D_{ij})}}$$"
   ]
  },
  {
   "cell_type": "code",
   "execution_count": 7,
   "id": "a16ff636",
   "metadata": {},
   "outputs": [],
   "source": [
    "ids, d = load_pickle('data/sample.pickle')"
   ]
  },
  {
   "cell_type": "markdown",
   "id": "5c68bf64",
   "metadata": {},
   "source": [
    "# Stationary"
   ]
  },
  {
   "cell_type": "markdown",
   "id": "fa5487ed",
   "metadata": {},
   "source": [
    "## Decreasing Shape Function"
   ]
  },
  {
   "cell_type": "code",
   "execution_count": 8,
   "id": "34f3b8ae",
   "metadata": {},
   "outputs": [],
   "source": [
    "# shape = 'quad' \n",
    "shape = 'log'"
   ]
  },
  {
   "cell_type": "code",
   "execution_count": 9,
   "id": "42a2eb3b",
   "metadata": {},
   "outputs": [
    {
     "data": {
      "text/plain": [
       "(100, 1)"
      ]
     },
     "execution_count": 9,
     "metadata": {},
     "output_type": "execute_result"
    }
   ],
   "source": [
    "alphas = get_alphas(f'data/stationary/csv/alphas.csv')\n",
    "alphas.shape"
   ]
  },
  {
   "cell_type": "code",
   "execution_count": 10,
   "id": "327e802b",
   "metadata": {},
   "outputs": [
    {
     "data": {
      "text/plain": [
       "(100, 900)"
      ]
     },
     "execution_count": 10,
     "metadata": {},
     "output_type": "execute_result"
    }
   ],
   "source": [
    "F = []\n",
    "cutoff = 170\n",
    "n = alphas.shape[0]\n",
    "for i in range(n):\n",
    "    if shape == 'log':\n",
    "        f = alphas[i, 0] * (-np.log(d+1) + np.log(cutoff))\n",
    "    else:\n",
    "        f = alphas[i, 0] * d**2 - 400 * alphas[i, 0] * d + 40000*alphas[i, 0]\n",
    "    F.append(f)\n",
    "F = np.array(F)\n",
    "F.shape"
   ]
  },
  {
   "cell_type": "code",
   "execution_count": null,
   "id": "8e8b6b7f",
   "metadata": {},
   "outputs": [],
   "source": [
    "plt.scatter(d, F[11, :])"
   ]
  },
  {
   "cell_type": "code",
   "execution_count": null,
   "id": "99ce3ecd",
   "metadata": {},
   "outputs": [],
   "source": [
    "# np.save(f'data/stationary/csv/F.npy', F)\n",
    "F=np.load(f'data/stationary/csv/F.npy')\n",
    "F.shape"
   ]
  },
  {
   "cell_type": "markdown",
   "id": "8873bd7f",
   "metadata": {},
   "source": [
    "## Estimation"
   ]
  },
  {
   "cell_type": "code",
   "execution_count": 14,
   "id": "cf4139d4",
   "metadata": {},
   "outputs": [],
   "source": [
    "F_hats = []\n",
    "actual, forecast = [], []\n",
    "for i in range(100):\n",
    "    out = load_pickle(f'output/stationary/out{i}.pickle')\n",
    "    f = out[2].transpose()\n",
    "    F_hats.append(f)\n",
    "    actual.append(out[0])\n",
    "    forecast.append(out[1])\n",
    "F_hats = np.concatenate(F_hats, 0)\n",
    "actual = np.stack(actual, 0)\n",
    "forecast = np.stack(forecast, 0)"
   ]
  },
  {
   "cell_type": "code",
   "execution_count": 15,
   "id": "d30202ac",
   "metadata": {},
   "outputs": [
    {
     "data": {
      "text/plain": [
       "((900,), (900,))"
      ]
     },
     "execution_count": 15,
     "metadata": {},
     "output_type": "execute_result"
    }
   ],
   "source": [
    "F_hat_agg = F_hats.mean(0)\n",
    "F_agg = F.mean(0)\n",
    "F_agg.shape, F_hat_agg.shape"
   ]
  },
  {
   "cell_type": "code",
   "execution_count": 17,
   "id": "690fc3b3",
   "metadata": {
    "scrolled": true
   },
   "outputs": [
    {
     "data": {
      "image/png": "[encoded data removed]",
      "text/plain": [
       "<Figure size 432x288 with 1 Axes>"
      ]
     },
     "metadata": {
      "needs_background": "light"
     },
     "output_type": "display_data"
    }
   ],
   "source": [
    "idx = np.argwhere(d < 300)\n",
    "plt.scatter(d[idx,], F_agg[idx,], c='b', label='Actual SF')\n",
    "plt.scatter(d[idx,], F_hat_agg[idx, ], c='r', label='Estimated SF')\n",
    "plt.grid()\n",
    "plt.xlabel('Distance')\n",
    "plt.title('Stationary Simulation')\n",
    "plt.legend()\n",
    "plt.savefig(\"viz/st_sim/shape_function.pdf\", dpi=150)"
   ]
  },
  {
   "cell_type": "markdown",
   "id": "7352daff",
   "metadata": {},
   "source": [
    "## Forecasting"
   ]
  },
  {
   "cell_type": "code",
   "execution_count": 18,
   "id": "30739a7f",
   "metadata": {},
   "outputs": [
    {
     "data": {
      "text/plain": [
       "((100, 30, 500), (100, 30, 500))"
      ]
     },
     "execution_count": 18,
     "metadata": {},
     "output_type": "execute_result"
    }
   ],
   "source": [
    "actual.shape, forecast.shape"
   ]
  },
  {
   "cell_type": "code",
   "execution_count": 19,
   "id": "04e88c8f",
   "metadata": {},
   "outputs": [],
   "source": [
    "actual = actual.mean(0)\n",
    "forecast = forecast.mean(0)"
   ]
  },
  {
   "cell_type": "code",
   "execution_count": 22,
   "id": "7976d9e2",
   "metadata": {
    "scrolled": false
   },
   "outputs": [
    {
     "data": {
      "image/png": "[encoded data removed]",
      "text/plain": [
       "<Figure size 576x360 with 1 Axes>"
      ]
     },
     "metadata": {
      "needs_background": "light"
     },
     "output_type": "display_data"
    }
   ],
   "source": [
    "plt.figure(figsize=(8,5))\n",
    "plt.plot(actual[10, 300:350], c='b', label='Real Values')\n",
    "plt.plot(forecast[10, 300:350], c='r', label='Forecasts')\n",
    "plt.xlabel('Time')\n",
    "plt.legend(fontsize='medium', loc='upper left')\n",
    "plt.title('Stationary Simulation')\n",
    "plt.grid()\n",
    "plt.savefig(\"viz/st_sim/sample.pdf\", dpi=150)"
   ]
  },
  {
   "cell_type": "code",
   "execution_count": 23,
   "id": "e2da7982",
   "metadata": {
    "scrolled": false
   },
   "outputs": [],
   "source": [
    "plot_forecast(actual, forecast, 6, 5, 300, 350, (12,6), 'viz/st_sim/forecast.pdf')\n",
    "# plot_forecast(actual, forecast, 6, 5, 300, 350, (12,6), None)"
   ]
  },
  {
   "cell_type": "markdown",
   "id": "62ede46d",
   "metadata": {},
   "source": [
    "# Non-Stationary\n",
    "\n",
    "## Shape function"
   ]
  },
  {
   "cell_type": "code",
   "execution_count": 24,
   "id": "d44b416c",
   "metadata": {},
   "outputs": [],
   "source": [
    "shape = 'log'\n",
    "alphas = get_alphas('data/nst_sim/csv/alphas.csv')"
   ]
  },
  {
   "cell_type": "code",
   "execution_count": 25,
   "id": "c94dd86f",
   "metadata": {
    "scrolled": true
   },
   "outputs": [
    {
     "data": {
      "text/plain": [
       "(100, 2)"
      ]
     },
     "execution_count": 25,
     "metadata": {},
     "output_type": "execute_result"
    }
   ],
   "source": [
    "alphas.shape"
   ]
  },
  {
   "cell_type": "code",
   "execution_count": 26,
   "id": "15ca3fdf",
   "metadata": {},
   "outputs": [
    {
     "name": "stderr",
     "output_type": "stream",
     "text": [
      "100%|█████████████████████████████████████████| 100/100 [00:02<00:00, 41.04it/s]\n"
     ]
    },
    {
     "data": {
      "text/plain": [
       "(100, 500, 900)"
      ]
     },
     "execution_count": 26,
     "metadata": {},
     "output_type": "execute_result"
    }
   ],
   "source": [
    "def get_shape_function(d, shape, alpha_1, cutoff):\n",
    "    if shape == 'log':\n",
    "        return  alpha_1 * (-np.log(d+1) + np.log(cutoff)) # make it increasing\n",
    "    elif shape == 'quad': \n",
    "        return - alpha_1 * d**2 + 400 * alpha_1 * d # - 40000*alphas_1\n",
    "        \n",
    "T = 500\n",
    "F = []\n",
    "cutoff=170\n",
    "n = alphas.shape[0]\n",
    "for i in tqdm(range(100)):\n",
    "    fs = []\n",
    "    alpha = alphas[i, :]\n",
    "    for t in range(2, T + 1):\n",
    "        alpha_1 = (1 - (t-1)/T)*alpha[0]+(t-1)/T*alpha[1]\n",
    "        f = get_shape_function(d, shape, alpha_1, cutoff)\n",
    "        fs.append(f)\n",
    "    \n",
    "    f = get_shape_function(d, shape, alpha[1], cutoff)\n",
    "    fs.append(f)\n",
    "    F.append(fs)\n",
    "F = np.array(F)\n",
    "F.shape"
   ]
  },
  {
   "cell_type": "code",
   "execution_count": null,
   "id": "d5f2895d",
   "metadata": {},
   "outputs": [],
   "source": [
    "# np.save('data/nst_sim/csv/F.npy', F)\n",
    "F = np.load('data/nst_sim/csv/F.npy')"
   ]
  },
  {
   "cell_type": "code",
   "execution_count": null,
   "id": "cc72cdd7",
   "metadata": {
    "scrolled": false
   },
   "outputs": [],
   "source": [
    "plt.scatter(d, F[9, 13, :])"
   ]
  },
  {
   "cell_type": "markdown",
   "id": "65133b33",
   "metadata": {},
   "source": [
    "## Estimation"
   ]
  },
  {
   "cell_type": "code",
   "execution_count": 27,
   "id": "f88c7e30",
   "metadata": {},
   "outputs": [],
   "source": [
    "F_hats = []\n",
    "actual, forecast = [], []\n",
    "for i in range(31):\n",
    "    out = load_pickle(f'output/nst_sim/out{i}.pickle')\n",
    "    f = out[2].transpose()\n",
    "    F_hats.append(f)\n",
    "    actual.append(out[0])\n",
    "    forecast.append(out[1])\n",
    "F_hats = np.stack(F_hats)\n",
    "actual = np.stack(actual, 0)\n",
    "forecast = np.stack(forecast, 0)"
   ]
  },
  {
   "cell_type": "code",
   "execution_count": 28,
   "id": "e63e1298",
   "metadata": {},
   "outputs": [
    {
     "data": {
      "text/plain": [
       "((100, 500, 900), (31, 500, 900))"
      ]
     },
     "execution_count": 28,
     "metadata": {},
     "output_type": "execute_result"
    }
   ],
   "source": [
    "F.shape, F_hats.shape"
   ]
  },
  {
   "cell_type": "code",
   "execution_count": 29,
   "id": "c8d2f46e",
   "metadata": {
    "scrolled": false
   },
   "outputs": [
    {
     "data": {
      "text/plain": [
       "((20, 900), (20, 900))"
      ]
     },
     "execution_count": 29,
     "metadata": {},
     "output_type": "execute_result"
    }
   ],
   "source": [
    "idx = range(300, 400, 5)\n",
    "F_agg = F[:, idx, :].mean(0)\n",
    "F_hat_agg = F_hats[:, idx, :].mean(0)\n",
    "F_agg.shape, F_hat_agg.shape"
   ]
  },
  {
   "cell_type": "code",
   "execution_count": null,
   "id": "31886880",
   "metadata": {},
   "outputs": [],
   "source": [
    "F_agg[0, 30:50], F_hat_agg[0, 30:50] "
   ]
  },
  {
   "cell_type": "code",
   "execution_count": 33,
   "id": "cf241ab7",
   "metadata": {
    "scrolled": false
   },
   "outputs": [],
   "source": [
    "plot_sf(d, F_agg, F_hat_agg, 4, 5, 900, (12, 8), 5, 300, 'viz/nst_sim/shape_function.pdf')"
   ]
  },
  {
   "cell_type": "markdown",
   "id": "f2152e3e",
   "metadata": {},
   "source": [
    "## Forecasting"
   ]
  },
  {
   "cell_type": "code",
   "execution_count": 35,
   "id": "0eccd516",
   "metadata": {},
   "outputs": [
    {
     "data": {
      "text/plain": [
       "((30, 500), (30, 500))"
      ]
     },
     "execution_count": 35,
     "metadata": {},
     "output_type": "execute_result"
    }
   ],
   "source": [
    "actual = actual.mean(0)\n",
    "forecast = forecast.mean(0)\n",
    "actual.shape, forecast.shape"
   ]
  },
  {
   "cell_type": "code",
   "execution_count": null,
   "id": "5d912504",
   "metadata": {},
   "outputs": [],
   "source": [
    "l = 10\n",
    "plt.figure(figsize=(8,5))\n",
    "plt.plot(actual[1, 300:350], c='b', label='Real Values')\n",
    "plt.plot(forecast[1, 300:350], c='r', label='Forecasts')\n",
    "plt.xlabel('Time')\n",
    "plt.legend(fontsize='medium', loc='upper left')\n",
    "plt.title('Non-Stationary Simulation')\n",
    "plt.grid()\n",
    "plt.savefig(\"viz/nst_sim/sample.pdf\", dpi=150)"
   ]
  },
  {
   "cell_type": "code",
   "execution_count": 39,
   "id": "1e8b15dc",
   "metadata": {},
   "outputs": [],
   "source": [
    "plot_forecast(actual, forecast, 6, 5, 300, 350, (12,6), 'viz/nst_sim/forecast.pdf')\n",
    "# plot_forecast(actual, forecast, 6, 5, 300, 350, (12,6), None)"
   ]
  },
  {
   "cell_type": "markdown",
   "id": "ba105bad",
   "metadata": {},
   "source": [
    "## 3. Multi-Step"
   ]
  },
  {
   "cell_type": "code",
   "execution_count": null,
   "id": "6cf9721a",
   "metadata": {},
   "outputs": [],
   "source": [
    "h1 = load_pickle('output/nst_sim_h1.pickle')\n",
    "h2 = load_pickle('output/nst_sim_h10.pickle')"
   ]
  },
  {
   "cell_type": "code",
   "execution_count": null,
   "id": "df579d9e",
   "metadata": {},
   "outputs": [],
   "source": [
    "ts = 500\n",
    "fig, axs = plt.subplots(1, 2, figsize=(18,8))\n",
    "axs[0].plot(h1[0][10, -ts:], c='b')\n",
    "axs[0].plot(h1[1][10, -ts:], c='r')\n",
    "axs[0].title.set_text('h = 1')\n",
    "\n",
    "axs[1].plot(h2[0][10, -ts:], c='b')\n",
    "axs[1].plot(h2[1][10, -ts:], c='r')\n",
    "axs[1].title.set_text('h = 5')\n",
    "plt.show()"
   ]
  },
  {
   "cell_type": "markdown",
   "id": "1c8e39f5",
   "metadata": {},
   "source": [
    "# Baselines"
   ]
  },
  {
   "cell_type": "code",
   "execution_count": 65,
   "id": "39673feb",
   "metadata": {},
   "outputs": [],
   "source": [
    "dataset = 'sim'\n",
    "horizon = 1\n",
    "loc, n = 30, 500"
   ]
  },
  {
   "cell_type": "code",
   "execution_count": 66,
   "id": "0794f41a",
   "metadata": {},
   "outputs": [],
   "source": [
    "x_offsets = np.sort(np.concatenate((np.arange(1-horizon, 1, 1),)))\n",
    "y_offsets = np.sort(np.arange(1, 1+horizon, 1))\n",
    "x_ids, y_ids = [], []\n",
    "min_t = abs(min(x_offsets))\n",
    "max_t = abs(n - abs(max(y_offsets)))  # Exclusive\n",
    "for t in range(min_t, max_t):\n",
    "    x_ids.extend(t + x_offsets)\n",
    "    y_ids.extend(t + y_offsets)"
   ]
  },
  {
   "cell_type": "code",
   "execution_count": 43,
   "id": "949450ec",
   "metadata": {},
   "outputs": [],
   "source": [
    "def aggregate(v, n=7320, h=20, loc=30):\n",
    "    out = [np.zeros((1, loc)) for _ in range(n)]\n",
    "    cnt = [np.ones((1, loc)) for _ in range(h)] + [np.zeros((1, loc)) for _ in range(n-h)]\n",
    "    L = len(y_ids)\n",
    "    for l in range(L):\n",
    "        i = y_ids[l] \n",
    "        out[i] += v[l, :]\n",
    "        cnt[i] += 1\n",
    "\n",
    "    outs = np.concatenate(out)\n",
    "    cnts = np.concatenate(cnt)\n",
    "    return (outs/cnts).transpose()"
   ]
  },
  {
   "cell_type": "code",
   "execution_count": 44,
   "id": "73175c09",
   "metadata": {},
   "outputs": [],
   "source": [
    "def load_outputs(path, n, h, loc):\n",
    "    data = np.load(path)\n",
    "    input, pred, label = data['input'], data['prediction'], data['truth']\n",
    "    \n",
    "    \n",
    "    if 'DC-RNN' in path:\n",
    "        pred, label = pred.swapaxes(0,1), label.swapaxes(0,1)\n",
    "        \n",
    "    predictions = aggregate(pred.reshape(-1, loc), n, h, loc)\n",
    "    labels = aggregate(label.reshape(-1, loc), n, h, loc)\n",
    "#     print(input.shape, pred.shape, label.shape, '//', predictions.shape, labels.shape)\n",
    "    \n",
    "    return predictions, labels"
   ]
  },
  {
   "cell_type": "markdown",
   "id": "58a58ab4",
   "metadata": {},
   "source": [
    "## Visualization"
   ]
  },
  {
   "cell_type": "code",
   "execution_count": 45,
   "id": "f55f1849",
   "metadata": {},
   "outputs": [],
   "source": [
    "def compute_metrics(name, p, l, horizon, size = None):\n",
    "    if size:\n",
    "        p = p[:, -size:]\n",
    "        l = l[:, -size:]\n",
    "    # Mean absolute error\n",
    "    mae = (np.abs(p - l) / horizon).mean()\n",
    "\n",
    "    # Mean Absolute Percentage Error\n",
    "    smape = 2.0 * (np.abs(l-p)/(np.abs(l+1e-10)+np.abs(p+1e-10))).mean()\n",
    "\n",
    "    # Root Mean Squared Error\n",
    "    rmse = ((p - l)**2 / horizon).mean(-1)\n",
    "    rmse = np.sqrt(rmse).mean()\n",
    "\n",
    "\n",
    "    return mae, smape, rmse"
   ]
  },
  {
   "cell_type": "code",
   "execution_count": 46,
   "id": "817b530b",
   "metadata": {
    "scrolled": true
   },
   "outputs": [],
   "source": [
    "def get_result(i, horizon, collector, size):\n",
    "    \n",
    "    for name in names:\n",
    "        p, l = load_outputs(f'{name}/data/{dataset}/output/preds{i}.npz', n, horizon, loc)\n",
    "        out = compute_metrics(name, p, l, horizon, size)\n",
    "        collector[name]['mae'].append(out[0])\n",
    "        collector[name]['smape'].append(out[1])\n",
    "        collector[name]['rmse'].append(out[2])\n",
    "    return collector"
   ]
  },
  {
   "cell_type": "code",
   "execution_count": 67,
   "id": "da279470",
   "metadata": {},
   "outputs": [],
   "source": [
    "names = ['DC-RNN','FC-GAGA','GMAN', 'ConvLSTM']\n",
    "collector = {}\n",
    "for name in names:\n",
    "    collector[name] = {\"mae\": [], \"smape\": [], \"rmse\": []}"
   ]
  },
  {
   "cell_type": "code",
   "execution_count": 68,
   "id": "0d8b347e",
   "metadata": {
    "scrolled": true
   },
   "outputs": [
    {
     "name": "stderr",
     "output_type": "stream",
     "text": [
      "100%|███████████████████████████████████████████| 31/31 [00:02<00:00, 13.24it/s]\n"
     ]
    }
   ],
   "source": [
    "for i in tqdm(range(31)):\n",
    "    collector = get_result(i, horizon, collector, 200)    "
   ]
  },
  {
   "cell_type": "code",
   "execution_count": 69,
   "id": "629c966b",
   "metadata": {},
   "outputs": [
    {
     "name": "stdout",
     "output_type": "stream",
     "text": [
      "DC-RNN & 0.800\\pm0.001 & 1.636\\pm0.013 & 1.001\\pm0.001 \\\\\n",
      "FC-GAGA & 1.037\\pm0.006 & 1.412\\pm0.005 & 1.297\\pm0.008 \\\\\n",
      "GMAN & 1.007\\pm0.006 & 1.439\\pm0.003 & 1.261\\pm0.007 \\\\\n",
      "ConvLSTM & 0.908\\pm0.003 & 1.365\\pm0.004 & 1.133\\pm0.004 \\\\\n"
     ]
    }
   ],
   "source": [
    "for name in names:\n",
    "    means, stds = [], []\n",
    "    for metric in ['mae', 'smape', 'rmse']:\n",
    "        m = np.array(collector[name][metric]).mean()\n",
    "        s = stats.sem(collector[name][metric])\n",
    "        means.append(m)\n",
    "        stds.append(s)\n",
    "    print(f\"{name} & {means[0]:.3f}\\pm{stds[0]:.3f} & {means[1]:.3f}\\pm{stds[1]:.3f} & {means[2]:.3f}\\pm{stds[2]:.3f} \\\\\\\\\")"
   ]
  },
  {
   "cell_type": "code",
   "execution_count": null,
   "id": "54dc187f",
   "metadata": {},
   "outputs": [],
   "source": [
    "p = load_pickle(f'output/nst_sim/out{i}.pickle')[1]"
   ]
  },
  {
   "cell_type": "code",
   "execution_count": null,
   "id": "dfc17f40",
   "metadata": {},
   "outputs": [],
   "source": [
    "dataset = 'stationary' if dataset == 'sim' else dataset\n",
    "mae, smape, rmse = [], [], []\n",
    "iter = range(31)\n",
    "for i in tqdm(iter):\n",
    "    p = load_pickle(f'output/{dataset}/out{i}.pickle')[1]\n",
    "    l = pd.read_csv(f'data/{dataset}/csv/s{i}.csv')\n",
    "    l = l.iloc[:, 1:].to_numpy()\n",
    "    a, b, c = compute_metrics('Shape function', p, l , horizon, 200)\n",
    "    mae.append(a)\n",
    "    smape.append(b)\n",
    "    rmse.append(c)\n",
    "\n",
    "A = np.array(mae).mean(), stats.sem(mae)\n",
    "B = np.array(smape).mean(), stats.sem(smape)\n",
    "C = np.array(rmse).mean(), stats.sem(rmse)\n",
    "print(f\"Shape function & {A[0]:.3f}\\pm{A[1]:.3f} & {B[0]:.3f}\\pm{B[1]:.3f} & {C[0]:.3f}\\pm{C[1]:.3f} \\\\\\\\\")"
   ]
  },
  {
   "cell_type": "markdown",
   "id": "a14ca405",
   "metadata": {},
   "source": [
    "## Mine /Air"
   ]
  },
  {
   "cell_type": "code",
   "execution_count": null,
   "id": "4c090d2a",
   "metadata": {},
   "outputs": [],
   "source": [
    "ids, d = load_pickle('data/air/sample.pickle')"
   ]
  },
  {
   "cell_type": "code",
   "execution_count": null,
   "id": "4c385bfa",
   "metadata": {},
   "outputs": [],
   "source": [
    "out = load_pickle('output/air.pickle')"
   ]
  },
  {
   "cell_type": "code",
   "execution_count": null,
   "id": "a6238a01",
   "metadata": {},
   "outputs": [],
   "source": [
    "out[0].shape, out[1].shape, out[2].shape"
   ]
  },
  {
   "cell_type": "code",
   "execution_count": null,
   "id": "45e96af2",
   "metadata": {
    "scrolled": true
   },
   "outputs": [],
   "source": [
    "n = 3\n",
    "plt.figure(figsize=(10,5))\n",
    "plt.plot(out[0][n, 300:400], c='b', label='Real Values')\n",
    "plt.plot(out[1][n, 300:400], c='r', label='Forecasts')\n",
    "plt.xlabel('Time')\n",
    "plt.legend(fontsize='medium', loc='upper right')\n",
    "plt.title('Stationary Simulation')\n",
    "plt.grid()\n",
    "plt.show()"
   ]
  },
  {
   "cell_type": "code",
   "execution_count": null,
   "id": "193994e1",
   "metadata": {
    "scrolled": false
   },
   "outputs": [],
   "source": [
    "plot_forecast(out[0], out[1], 6, 5, 300, 400, (16,7))"
   ]
  },
  {
   "cell_type": "code",
   "execution_count": null,
   "id": "745630b8",
   "metadata": {},
   "outputs": [],
   "source": [
    "out[2].shape"
   ]
  },
  {
   "cell_type": "code",
   "execution_count": null,
   "id": "dfbadb82",
   "metadata": {},
   "outputs": [],
   "source": [
    "idx = range(0, 50, 5)\n",
    "f = out[2].transpose()[idx, ]\n",
    "f.shape"
   ]
  },
  {
   "cell_type": "code",
   "execution_count": null,
   "id": "13ceb853",
   "metadata": {
    "scrolled": false
   },
   "outputs": [],
   "source": [
    "plot_sf(d, f, f, 5, 2, 150, (16, 10), 100)"
   ]
  }
 ],
 "metadata": {
  "interpreter": {
   "hash": "1688c8c8b3141dfe96adf7a57b6468d95b56c400840a60e1c5e8d27f4ad0f81c"
  },
  "kernelspec": {
   "display_name": "pypro",
   "language": "python",
   "name": "pypro"
  },
  "language_info": {
   "codemirror_mode": {
    "name": "ipython",
    "version": 3
   },
   "file_extension": ".py",
   "mimetype": "text/x-python",
   "name": "python",
   "nbconvert_exporter": "python",
   "pygments_lexer": "ipython3",
   "version": "3.9.10"
  }
 },
 "nbformat": 4,
 "nbformat_minor": 5
}
