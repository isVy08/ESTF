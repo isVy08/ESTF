{
 "cells": [
  {
   "cell_type": "markdown",
   "id": "cf1c0eee",
   "metadata": {},
   "source": [
    "## Imports"
   ]
  },
  {
   "cell_type": "code",
   "execution_count": 1,
   "id": "4ca714f8",
   "metadata": {},
   "outputs": [],
   "source": [
    "import scipy.io, random\n",
    "import numpy as np\n",
    "from utils import *\n",
    "import matplotlib.pyplot as plt\n",
    "from tqdm import tqdm\n",
    "import pandas as pd"
   ]
  },
  {
   "cell_type": "markdown",
   "id": "58887af9",
   "metadata": {},
   "source": [
    "## Utils"
   ]
  },
  {
   "cell_type": "code",
   "execution_count": null,
   "id": "e5d683be",
   "metadata": {},
   "outputs": [],
   "source": [
    "def plot_forecast(source, prediction, nrow=5, ncol=5, from_=2800, to_=None):\n",
    "    n = source.shape[0]\n",
    "    idx = list(range(n))\n",
    "    fig, axs = plt.subplots(nrow, ncol, figsize=(15,8), sharex=True)\n",
    "    if to_ is None:\n",
    "        to_ = source.shape[1]\n",
    "    i = 0\n",
    "    for r in range(nrow):\n",
    "        for c in range(ncol):\n",
    "            axs[r,c].plot(source[idx[i], from_:to_], c='b')\n",
    "            axs[r,c].plot(prediction[idx[i], from_:to_], c='r')\n",
    "\n",
    "            i += 1\n",
    "    fig.tight_layout()\n",
    "    plt.show()"
   ]
  },
  {
   "cell_type": "code",
   "execution_count": null,
   "id": "d10e5b03",
   "metadata": {},
   "outputs": [],
   "source": [
    "def plot_shape_function(d, F1, F2, nrow=5, ncol=5):\n",
    "    n = F1.shape[1]\n",
    "    idx = random.sample(range(n), nrow * ncol)\n",
    "    fig, axs = plt.subplots(nrow, ncol, figsize=(15,8), sharex=True)\n",
    "    i = 0\n",
    "    for r in range(nrow):\n",
    "        for c in range(ncol):\n",
    "            if F2 is not None:\n",
    "                axs[r,c].scatter(d, F1[:, idx[i]], c='b')\n",
    "                axs[r,c].scatter(d, F2[:, idx[i]], c='r')\n",
    "            else:\n",
    "                axs[r,c].scatter(d, F1[:, idx[i]])\n",
    "            i += 1\n",
    "    fig.tight_layout()\n",
    "    plt.show()"
   ]
  },
  {
   "cell_type": "code",
   "execution_count": null,
   "id": "6c0d6b38",
   "metadata": {},
   "outputs": [],
   "source": [
    "def scale(X, max_, min_):\n",
    "    X_std = (X - X.min(axis=1).reshape(-1,1)) / ((X.max(axis=1) - X.min(axis=1)).reshape(-1,1))\n",
    "    X_std = X_std * (max_ - min_) + min_\n",
    "    return X_std"
   ]
  },
  {
   "cell_type": "code",
   "execution_count": null,
   "id": "1a385a44",
   "metadata": {},
   "outputs": [],
   "source": [
    "def normalize(X):\n",
    "    X_std = (X - X.mean(1).reshape(-1, 1)) / X.std(1).reshape(-1, 1)\n",
    "    return X_std"
   ]
  },
  {
   "cell_type": "markdown",
   "id": "58ad9b53",
   "metadata": {},
   "source": [
    "## Init"
   ]
  },
  {
   "cell_type": "code",
   "execution_count": 2,
   "id": "a16ff636",
   "metadata": {},
   "outputs": [],
   "source": [
    "ids, d, _ = load_pickle('data/sample.pickle')"
   ]
  },
  {
   "cell_type": "code",
   "execution_count": null,
   "id": "9deecf93",
   "metadata": {
    "scrolled": true
   },
   "outputs": [],
   "source": [
    "df = pd.read_csv('data/nst_sim_data.csv')\n",
    "data = df.iloc[:, 1:].to_numpy()"
   ]
  },
  {
   "cell_type": "code",
   "execution_count": null,
   "id": "797ab826",
   "metadata": {},
   "outputs": [],
   "source": [
    "data_std = normalize(data)"
   ]
  },
  {
   "cell_type": "code",
   "execution_count": null,
   "id": "24a9756f",
   "metadata": {},
   "outputs": [],
   "source": [
    "#  Check data pattern\n",
    "i = 10\n",
    "plt.figure(figsize=(20,10))\n",
    "# plt.plot(data[i, :])\n",
    "plt.plot(data_std[i, :])"
   ]
  },
  {
   "cell_type": "markdown",
   "id": "5c68bf64",
   "metadata": {},
   "source": [
    "# Stationary"
   ]
  },
  {
   "cell_type": "markdown",
   "id": "7352daff",
   "metadata": {},
   "source": [
    "## 1. Forecasting"
   ]
  },
  {
   "cell_type": "code",
   "execution_count": null,
   "id": "a9ae8001",
   "metadata": {},
   "outputs": [],
   "source": [
    "sim[0].shape, sim[1].shape, sim[2].shape"
   ]
  },
  {
   "cell_type": "code",
   "execution_count": null,
   "id": "7976d9e2",
   "metadata": {
    "scrolled": false
   },
   "outputs": [],
   "source": [
    "plt.figure(figsize=(20,8))\n",
    "plt.plot(sim[0][10, -200:], c='b')\n",
    "plt.plot(sim[1][10, -200:], c='r')\n",
    "\n",
    "plt.show()"
   ]
  },
  {
   "cell_type": "code",
   "execution_count": null,
   "id": "e2da7982",
   "metadata": {
    "scrolled": true
   },
   "outputs": [],
   "source": [
    "plot_forecast(sim[0], sim[1], 6, 5, 0, 3000)"
   ]
  },
  {
   "cell_type": "markdown",
   "id": "761888c0",
   "metadata": {},
   "source": [
    "## 2. Shape Function"
   ]
  },
  {
   "cell_type": "code",
   "execution_count": null,
   "id": "a5b3ffae",
   "metadata": {},
   "outputs": [],
   "source": [
    "d_norm = d\n",
    "F = np.log(d_norm+1)"
   ]
  },
  {
   "cell_type": "code",
   "execution_count": null,
   "id": "228ef74c",
   "metadata": {},
   "outputs": [],
   "source": [
    "l = 200\n",
    "plt.figure(figsize=(20,10))\n",
    "plt.scatter(d_norm[:l], F[:l, ], c='b')\n",
    "plt.scatter(d_norm[:l], sim[2][:l, 0], c='r')\n",
    "plt.show()"
   ]
  },
  {
   "cell_type": "code",
   "execution_count": null,
   "id": "97063b08",
   "metadata": {},
   "outputs": [],
   "source": [
    "plot_shape_function(d_norm, sim[2], None, 5, 5)"
   ]
  },
  {
   "cell_type": "markdown",
   "id": "62ede46d",
   "metadata": {},
   "source": [
    "# Non-Stationary"
   ]
  },
  {
   "cell_type": "code",
   "execution_count": 49,
   "id": "288018f3",
   "metadata": {},
   "outputs": [
    {
     "name": "stdout",
     "output_type": "stream",
     "text": [
      "(30, 100)\n",
      "(30, 100)\n",
      "(1,)\n",
      "(100, 30)\n",
      "(4000, 1)\n"
     ]
    }
   ],
   "source": [
    "out = load_pickle('output/nst_sim.pickle')\n",
    "F = np.log(d+1)\n",
    "\n",
    "for item in out:\n",
    "    print(item.shape)\n",
    "\n",
    "N, T = out[0].shape"
   ]
  },
  {
   "cell_type": "markdown",
   "id": "f2152e3e",
   "metadata": {},
   "source": [
    "## 1. Forecasting"
   ]
  },
  {
   "cell_type": "code",
   "execution_count": 43,
   "id": "5d912504",
   "metadata": {},
   "outputs": [
    {
     "data": {
      "image/png": "[encoded data removed]",
      "text/plain": [
       "<Figure size 1440x576 with 1 Axes>"
      ]
     },
     "metadata": {
      "needs_background": "light"
     },
     "output_type": "display_data"
    }
   ],
   "source": [
    "plt.figure(figsize=(20,8))\n",
    "i = 10\n",
    "plt.plot(out[1][i, :], c='r')\n",
    "plt.plot(out[0][i, :], c='b')\n",
    "\n",
    "plt.show()"
   ]
  },
  {
   "cell_type": "markdown",
   "id": "65133b33",
   "metadata": {},
   "source": [
    "## 2. Shape function"
   ]
  },
  {
   "cell_type": "code",
   "execution_count": 50,
   "id": "deabb9c7",
   "metadata": {},
   "outputs": [],
   "source": [
    "F_hat, mus, alphas = out[2:]"
   ]
  },
  {
   "cell_type": "code",
   "execution_count": 51,
   "id": "1589f798",
   "metadata": {},
   "outputs": [
    {
     "data": {
      "text/plain": [
       "array([0.        , 3.65676745, 3.54214759, 3.63150329, 2.39789527,\n",
       "       4.41884061, 3.96316541, 3.80463815, 3.1949683 , 2.74471764,\n",
       "       4.72262426, 3.93202167, 1.60943791, 3.63437516, 4.23421306,\n",
       "       4.0096845 , 3.82085088, 3.87120101, 3.8611257 , 3.58351894,\n",
       "       3.89521002, 4.07534088, 2.22421387, 4.77396943, 3.69871669,\n",
       "       3.67949596, 3.95105515, 1.69966903, 4.57492571, 4.01001949,\n",
       "       3.65676745, 0.        , 2.7104253 , 4.08276982, 3.76998099,\n",
       "       3.89266991, 4.441038  , 4.26308213, 4.03100118, 3.38897776,\n",
       "       4.36977232, 3.0312482 , 3.74200593, 2.61367436, 3.52636052,\n",
       "       4.459857  , 2.68112224, 3.25809654, 2.39789527, 3.05512076,\n",
       "       3.39599756, 3.32955185, 3.80362286, 4.44293129, 1.89564704,\n",
       "       4.23792807, 2.7174813 , 3.67424148, 4.22939539, 4.48272806,\n",
       "       3.54214759, 2.7104253 , 0.        , 4.14784856, 3.73766962,\n",
       "       3.90212885, 4.44293129, 4.30109436, 4.02600062, 3.43666806,\n",
       "       4.36855448, 2.86176779, 3.65022515, 1.52726237, 3.58153081,\n",
       "       4.46757599, 2.53859778, 2.78695665, 2.87035707, 1.99123245,\n",
       "       2.94589878, 3.23203092, 3.74229367, 4.441038  , 2.43714278,\n",
       "       4.25507668, 3.07341195, 3.51372202, 4.16675677, 4.47759798,\n",
       "       3.63150329, 4.08276982, 4.14784856, 0.        , 3.32888644,\n",
       "       4.67564224, 3.45965003, 2.61367436, 2.96728593, 3.50588734,\n",
       "       4.92169545, 4.35269666, 3.55702587, 4.18296651, 4.52393397,\n",
       "       3.46219497, 4.26838142, 4.36299588, 4.23792807, 4.20930701,\n",
       "       4.39259384, 4.448845  , 3.4339872 , 4.96441803, 4.15577316,\n",
       "       2.81063683, 4.29197918, 3.73853993, 4.83764512, 3.60029377,\n",
       "       2.39789527, 3.76998099, 3.73766962, 3.32888644, 0.        ,\n",
       "       4.49774547, 3.78524559, 3.55534806, 2.7174813 , 2.73580836,\n",
       "       4.78422475, 4.06285697, 2.10548721, 3.80767156, 4.32188302,\n",
       "       3.83464347, 3.95798495, 4.03116165, 3.9688384 , 3.79361297,\n",
       "       4.05847298, 4.19151605, 1.60943791, 4.83293737, 3.83129129,\n",
       "       3.405204  , 4.04865852, 2.7174813 , 4.65688216, 3.85107181,\n",
       "       4.41884061, 3.89266991, 3.90212885, 4.67564224, 4.49774547,\n",
       "       0.        , 4.88568507, 4.77969289, 4.63946556, 4.3451706 ,\n",
       "       3.4339872 , 3.49698082, 4.46483773, 3.83129129, 2.78085112,\n",
       "       4.89921261, 3.65022515, 3.65299038, 3.66490933, 3.90129533,\n",
       "       3.6846951 , 3.2328415 , 4.50471671, 3.61091791, 3.80767156,\n",
       "       4.76276303, 3.56202531, 4.40724592, 3.28138092, 4.91066289,\n",
       "       3.96316541, 4.441038  , 4.44293129, 3.45965003, 3.78524559,\n",
       "       4.88568507, 0.        , 3.00096721, 3.40119738, 4.03116165,\n",
       "       5.08950969, 4.6153185 , 3.88518589, 4.47733681, 4.76745091,\n",
       "       1.52726237, 4.55477194, 4.59840725, 4.55146343, 4.47016676,\n",
       "       4.61239027, 4.69151775, 3.79361297, 5.12574295, 4.48149907,\n",
       "       2.8423185 , 4.59517138, 4.01352331, 4.99950521, 1.79175947,\n",
       "       3.80463815, 4.26308213, 4.30109436, 2.61367436, 3.55534806,\n",
       "       4.77969289, 3.00096721, 0.        , 3.10280445, 3.77860856,\n",
       "       5.00430895, 4.48665336, 3.72561905, 4.33483913, 4.64457757,\n",
       "       2.97558442, 4.41419065, 4.48639691, 4.3947577 , 4.34695672,\n",
       "       4.50914716, 4.57218093, 3.61241713, 5.04376015, 4.32072081,\n",
       "       2.22421387, 4.44265126, 3.88583183, 4.92094607, 3.22219787,\n",
       "       3.1949683 , 4.03100118, 4.02600062, 2.96728593, 2.7174813 ,\n",
       "       4.63946556, 3.40119738, 3.10280445, 0.        , 3.32083036,\n",
       "       4.89318905, 4.2770572 , 3.03002334, 4.07753744, 4.48665336,\n",
       "       3.47025141, 4.19151605, 4.25507668, 4.19139992, 4.07002908,\n",
       "       4.27695946, 4.38234299, 2.78695665, 4.93707375, 4.0868016 ,\n",
       "       2.78695665, 4.25456563, 3.32621575, 4.78267157, 3.50402562,\n",
       "       2.74471764, 3.38897776, 3.43666806, 3.50588734, 2.73580836,\n",
       "       4.3451706 , 4.03116165, 3.77860856, 3.32083036, 0.        ,\n",
       "       4.67353368, 3.83249111, 2.84051109, 3.51326459, 4.13187108,\n",
       "       4.06180231, 3.69015984, 3.83344887, 3.67556035, 3.55576805,\n",
       "       3.88237702, 3.99177144, 2.88873502, 4.72801953, 3.49839787,\n",
       "       3.71357207, 3.77860856, 2.95025206, 4.54733915, 4.0919376 ,\n",
       "       4.72262426, 4.36977232, 4.36855448, 4.92169545, 4.78422475,\n",
       "       3.4339872 , 5.08950969, 5.00430895, 4.89318905, 4.67353368,\n",
       "       0.        , 4.13552415, 4.75713824, 4.32641639, 3.82960664,\n",
       "       5.10078209, 4.2234429 , 4.19751752, 4.23453258, 4.35837104,\n",
       "       4.20151649, 4.00004072, 4.78815656, 1.94591015, 4.31784834,\n",
       "       4.9908052 , 4.17630663, 4.71149193, 3.23526523, 5.10955396,\n",
       "       3.93202167, 3.0312482 , 2.86176779, 4.35269666, 4.06285697,\n",
       "       3.49698082, 4.6153185 , 4.48665336, 4.2770572 , 3.83249111,\n",
       "       4.13552415, 0.        , 4.00615333, 2.64992283, 2.9891085 ,\n",
       "       4.63477658, 1.99123245, 2.41573868, 2.58071334, 2.90167709,\n",
       "       2.7104253 , 2.19722458, 4.07002908, 4.22648217, 2.72901693,\n",
       "       4.45544048, 2.5929623 , 3.91283866, 3.90212885, 4.64606843,\n",
       "       1.60943791, 3.74200593, 3.65022515, 3.55702587, 2.10548721,\n",
       "       4.46483773, 3.88518589, 3.72561905, 3.03002334, 2.84051109,\n",
       "       4.75713824, 4.00615333, 0.        , 3.73270867, 4.28826663,\n",
       "       3.93612067, 3.90212885, 3.95124372, 3.93495299, 3.68887945,\n",
       "       3.9731862 , 4.14018177, 1.69966903, 4.80682441, 3.78603607,\n",
       "       3.58153081, 4.01865074, 2.10548721, 4.6153185 , 3.93495299,\n",
       "       3.63437516, 2.61367436, 1.52726237, 4.18296651, 3.80767156,\n",
       "       3.83129129, 4.47733681, 4.33483913, 4.07753744, 3.51326459,\n",
       "       4.32641639, 2.64992283, 3.73270867, 0.        , 3.47768639,\n",
       "       4.50037115, 2.20411829, 2.68112224, 2.66836699, 2.20411829,\n",
       "       2.88873502, 3.09535238, 3.81567083, 4.40210591, 2.19722458,\n",
       "       4.29387234, 2.90167709, 3.61241713, 4.12435028, 4.51183535,\n",
       "       4.23421306, 3.52636052, 3.58153081, 4.52393397, 4.32188302,\n",
       "       2.78085112, 4.76745091, 4.64457757, 4.48665336, 4.13187108,\n",
       "       3.82960664, 2.9891085 , 4.28826663, 3.47768639, 0.        ,\n",
       "       4.78199938, 3.1949683 , 3.32888644, 3.17805383, 3.61241713,\n",
       "       3.41480052, 2.62512128, 4.33318343, 3.95199729, 3.41030783,\n",
       "       4.62671699, 3.00096721, 4.22561571, 3.66389891, 4.7963756 ,\n",
       "       4.0096845 , 4.459857  , 4.46757599, 3.46219497, 3.83464347,\n",
       "       4.89921261, 1.52726237, 2.97558442, 3.47025141, 4.06180231,\n",
       "       5.10078209, 4.63477658, 3.93612067, 4.50037115, 4.78199938,\n",
       "       0.        , 4.57476467, 4.62107484, 4.56876927, 4.49630169,\n",
       "       4.63577491, 4.70957115, 3.8478295 , 5.13665048, 4.50136778,\n",
       "       2.90485944, 4.61124407, 4.06059423, 5.01440178, 2.08828579,\n",
       "       3.82085088, 2.68112224, 2.53859778, 4.26838142, 3.95798495,\n",
       "       3.65022515, 4.55477194, 4.41419065, 4.19151605, 3.69015984,\n",
       "       4.2234429 , 1.99123245, 3.90212885, 2.20411829, 3.1949683 ,\n",
       "       4.57476467, 0.        , 2.61367436, 2.20411829, 2.73580836,\n",
       "       2.87712072, 2.7174813 , 3.96974735, 4.30738606, 2.20411829,\n",
       "       4.38234299, 2.43714278, 3.80691495, 4.02209425, 4.58832243,\n",
       "       3.87120101, 3.25809654, 2.78695665, 4.36299588, 4.03116165,\n",
       "       3.65299038, 4.59840725, 4.48639691, 4.25507668, 3.83344887,\n",
       "       4.19751752, 2.41573868, 3.95124372, 2.68112224, 3.32888644,\n",
       "       4.62107484, 2.61367436, 0.        , 3.07341195, 2.56494936,\n",
       "       1.63376082, 2.7174813 , 4.02600062, 4.28095117, 3.0163428 ,\n",
       "       4.44467793, 3.13648136, 3.83249111, 3.91283866, 4.62574876,\n",
       "       3.8611257 , 2.39789527, 2.87035707, 4.23792807, 3.9688384 ,\n",
       "       3.66490933, 4.55146343, 4.3947577 , 4.19139992, 3.67556035,\n",
       "       4.23453258, 2.58071334, 3.93495299, 2.66836699, 3.17805383,\n",
       "       4.56876927, 2.20411829, 3.07341195, 0.        , 3.09962462,\n",
       "       3.24799312, 2.94589878, 3.99159768, 4.31784834, 2.10548721,\n",
       "       4.37236043, 1.69966903, 3.86383258, 4.08276982, 4.58827019,\n",
       "       3.58351894, 3.05512076, 1.99123245, 4.20930701, 3.79361297,\n",
       "       3.90129533, 4.47016676, 4.34695672, 4.07002908, 3.55576805,\n",
       "       4.35837104, 2.90167709, 3.68887945, 2.20411829, 3.61241713,\n",
       "       4.49630169, 2.73580836, 2.56494936, 3.09962462, 0.        ,\n",
       "       2.68112224, 3.22549753, 3.78524559, 4.43052985, 2.8350481 ,\n",
       "       4.29547587, 3.2424653 , 3.53343953, 4.12766292, 4.50080742,\n",
       "       3.89521002, 3.39599756, 2.94589878, 4.39259384, 4.05847298,\n",
       "       3.6846951 , 4.61239027, 4.50914716, 4.27695946, 3.88237702,\n",
       "       4.20151649, 2.7104253 , 3.9731862 , 2.88873502, 3.41480052,\n",
       "       4.63577491, 2.87712072, 1.63376082, 3.24799312, 2.68112224,\n",
       "       0.        , 2.87035707, 4.04865852, 4.28317646, 3.19145561,\n",
       "       4.46483773, 3.29867763, 3.8501476 , 3.89266991, 4.63776558,\n",
       "       4.07534088, 3.32955185, 3.23203092, 4.448845  , 4.19151605,\n",
       "       3.2328415 , 4.69151775, 4.57218093, 4.38234299, 3.99177144,\n",
       "       4.00004072, 2.19722458, 4.14018177, 3.09535238, 2.62512128,\n",
       "       4.70957115, 2.7174813 , 2.7174813 , 2.94589878, 3.22549753,\n",
       "       2.87035707, 0.        , 4.19705844, 4.10330269, 3.12852782,\n",
       "       4.54420906, 2.84948151, 4.05619009, 3.73300187, 4.71994465,\n",
       "       2.22421387, 3.80362286, 3.74229367, 3.4339872 , 1.60943791,\n",
       "       4.50471671, 3.79361297, 3.61241713, 2.78695665, 2.88873502,\n",
       "       4.78815656, 4.07002908, 1.69966903, 3.81567083, 4.33318343,\n",
       "       3.8478295 , 3.96974735, 4.02600062, 3.99159768, 3.78524559,\n",
       "       4.04865852, 4.19705844, 0.        , 4.83650408, 3.85383411,\n",
       "       3.44881519, 4.07047392, 2.53859778, 4.65469241, 3.85107181,\n",
       "       4.77396943, 4.44293129, 4.441038  , 4.96441803, 4.83293737,\n",
       "       3.61091791, 5.12574295, 5.04376015, 4.93707375, 4.72801953,\n",
       "       1.94591015, 4.22648217, 4.80682441, 4.40210591, 3.95199729,\n",
       "       5.13665048, 4.30738606, 4.28095117, 4.31784834, 4.43052985,\n",
       "       4.28317646, 4.10330269, 4.83650408, 0.        , 4.3947577 ,\n",
       "       5.0307818 , 4.26428693, 4.76305732, 3.37705055, 5.14502338,\n",
       "       3.69871669, 1.89564704, 2.43714278, 4.15577316, 3.83129129,\n",
       "       3.80767156, 4.48149907, 4.32072081, 4.0868016 , 3.49839787,\n",
       "       4.31784834, 2.72901693, 3.78603607, 2.19722458, 3.41030783,\n",
       "       4.50136778, 2.20411829, 3.0163428 , 2.10548721, 2.8350481 ,\n",
       "       3.19145561, 3.12852782, 3.85383411, 4.3947577 , 0.        ,\n",
       "       4.29083981, 2.53859778, 3.69997185, 4.1532711 , 4.51957391,\n",
       "       3.67949596, 4.23792807, 4.25507668, 2.81063683, 3.405204  ,\n",
       "       4.76276303, 2.8423185 , 2.22421387, 2.78695665, 3.71357207,\n",
       "       4.9908052 , 4.45544048, 3.58153081, 4.29387234, 4.62671699,\n",
       "       2.90485944, 4.38234299, 4.44467793, 4.37236043, 4.29547587,\n",
       "       4.46483773, 4.54420906, 3.44881519, 5.0307818 , 4.29083981,\n",
       "       0.        , 4.42352024, 3.7623063 , 4.89758724, 3.07228862,\n",
       "       3.95105515, 2.7174813 , 3.07341195, 4.29197918, 4.04865852,\n",
       "       3.56202531, 4.59517138, 4.44265126, 4.25456563, 3.77860856,\n",
       "       4.17630663, 2.5929623 , 4.01865074, 2.90167709, 3.00096721,\n",
       "       4.61124407, 2.43714278, 3.13648136, 1.69966903, 3.2424653 ,\n",
       "       3.29867763, 2.84948151, 4.07047392, 4.26428693, 2.53859778,\n",
       "       4.42352024, 0.        , 3.95331329, 4.03356251, 4.630907  ,\n",
       "       1.69966903, 3.67424148, 3.51372202, 3.73853993, 2.7174813 ,\n",
       "       4.40724592, 4.01352331, 3.88583183, 3.32621575, 2.95025206,\n",
       "       4.71149193, 3.91283866, 2.10548721, 3.61241713, 4.22561571,\n",
       "       4.06059423, 3.80691495, 3.83249111, 3.86383258, 3.53343953,\n",
       "       3.8501476 , 4.05619009, 2.53859778, 4.76305732, 3.69997185,\n",
       "       3.7623063 , 3.95331329, 0.        , 4.55410081, 4.05297628,\n",
       "       4.57492571, 4.22939539, 4.16675677, 4.83764512, 4.65688216,\n",
       "       3.28138092, 4.99950521, 4.92094607, 4.78267157, 4.54733915,\n",
       "       3.23526523, 3.90212885, 4.6153185 , 4.12435028, 3.66389891,\n",
       "       5.01440178, 4.02209425, 3.91283866, 4.08276982, 4.12766292,\n",
       "       3.89266991, 3.73300187, 4.65469241, 3.37705055, 4.1532711 ,\n",
       "       4.89758724, 4.03356251, 4.55410081, 0.        , 5.01807391,\n",
       "       4.01001949, 4.48272806, 4.47759798, 3.60029377, 3.85107181,\n",
       "       4.91066289, 1.79175947, 3.22219787, 3.50402562, 4.0919376 ,\n",
       "       5.10955396, 4.64606843, 3.93495299, 4.51183535, 4.7963756 ,\n",
       "       2.08828579, 4.58832243, 4.62574876, 4.58827019, 4.50080742,\n",
       "       4.63776558, 4.71994465, 3.85107181, 5.14502338, 4.51957391,\n",
       "       3.07228862, 4.630907  , 4.05297628, 5.01807391, 0.        ])"
      ]
     },
     "execution_count": 51,
     "metadata": {},
     "output_type": "execute_result"
    }
   ],
   "source": [
    "F"
   ]
  },
  {
   "cell_type": "code",
   "execution_count": 52,
   "id": "59d51fec",
   "metadata": {},
   "outputs": [
    {
     "data": {
      "text/plain": [
       "array([0.], dtype=float32)"
      ]
     },
     "execution_count": 52,
     "metadata": {},
     "output_type": "execute_result"
    }
   ],
   "source": [
    "F_hat"
   ]
  },
  {
   "cell_type": "code",
   "execution_count": 28,
   "id": "5732ca8a",
   "metadata": {
    "scrolled": false
   },
   "outputs": [
    {
     "data": {
      "image/png": "[encoded data removed]",
      "text/plain": [
       "<Figure size 1440x720 with 1 Axes>"
      ]
     },
     "metadata": {
      "needs_background": "light"
     },
     "output_type": "display_data"
    }
   ],
   "source": [
    "t = 2\n",
    "f_hat = F_hat * alphas[t]\n",
    "f = F * alphas[t]\n",
    "plt.figure(figsize=(20,10))\n",
    "plt.scatter(d, f, c='b')\n",
    "plt.scatter(d, f_hat, c='r')\n",
    "plt.show()"
   ]
  },
  {
   "cell_type": "code",
   "execution_count": 33,
   "id": "630aee4e",
   "metadata": {},
   "outputs": [],
   "source": [
    "# Compare mus\n",
    "true_mus = pd.read_csv('data/nst_mu.csv')\n",
    "true_mus = true_mus.iloc[:, 1:T+1].to_numpy()"
   ]
  },
  {
   "cell_type": "code",
   "execution_count": 30,
   "id": "74222bd1",
   "metadata": {},
   "outputs": [
    {
     "data": {
      "text/plain": [
       "(100, 30)"
      ]
     },
     "execution_count": 30,
     "metadata": {},
     "output_type": "execute_result"
    }
   ],
   "source": [
    "mus.shape"
   ]
  },
  {
   "cell_type": "code",
   "execution_count": 31,
   "id": "4187a953",
   "metadata": {},
   "outputs": [],
   "source": [
    "mus_hat = mus.transpose() / (np.arange(1, T+1) **2)"
   ]
  },
  {
   "cell_type": "code",
   "execution_count": 34,
   "id": "5d337c37",
   "metadata": {},
   "outputs": [
    {
     "data": {
      "text/plain": [
       "2.112493573903543"
      ]
     },
     "execution_count": 34,
     "metadata": {},
     "output_type": "execute_result"
    }
   ],
   "source": [
    "np.abs(mus_hat - true_mus).mean()"
   ]
  },
  {
   "cell_type": "code",
   "execution_count": 39,
   "id": "7f54a3e0",
   "metadata": {},
   "outputs": [
    {
     "data": {
      "text/plain": [
       "(array([0.001, 0.003, 0.006, 0.011, 0.017, 0.025, 0.034, 0.045, 0.057,\n",
       "        0.07 ]),\n",
       " array([0.023, 1.314, 0.492, 0.329, 0.207, 0.145, 0.111, 0.073, 0.059,\n",
       "        0.056]))"
      ]
     },
     "execution_count": 39,
     "metadata": {},
     "output_type": "execute_result"
    }
   ],
   "source": [
    "true_mus[0, : 10].round(3), mus_hat[0, :10].round(3)"
   ]
  },
  {
   "cell_type": "markdown",
   "id": "1c8e39f5",
   "metadata": {},
   "source": [
    "# Baselines"
   ]
  },
  {
   "cell_type": "code",
   "execution_count": null,
   "id": "39673feb",
   "metadata": {},
   "outputs": [],
   "source": [
    "dataset = 'sim'\n",
    "horizon = 1"
   ]
  },
  {
   "cell_type": "code",
   "execution_count": null,
   "id": "df2dbb95",
   "metadata": {},
   "outputs": [],
   "source": [
    "data = np.load(f'data/{dataset}.npy')\n",
    "loc, n = data.shape\n",
    "print(loc, n)"
   ]
  },
  {
   "cell_type": "code",
   "execution_count": null,
   "id": "82b4c638",
   "metadata": {},
   "outputs": [],
   "source": [
    "#  Scale data and horizon\n",
    "# data = scale(data, 0.3, 0)"
   ]
  },
  {
   "cell_type": "code",
   "execution_count": null,
   "id": "0794f41a",
   "metadata": {},
   "outputs": [],
   "source": [
    "x_offsets = np.sort(np.concatenate((np.arange(1-horizon, 1, 1),)))\n",
    "y_offsets = np.sort(np.arange(1, 1+horizon, 1))\n",
    "x_ids, y_ids = [], []\n",
    "min_t = abs(min(x_offsets))\n",
    "max_t = abs(n - abs(max(y_offsets)))  # Exclusive\n",
    "for t in range(min_t, max_t):\n",
    "    x_ids.extend(t + x_offsets)\n",
    "    y_ids.extend(t + y_offsets)"
   ]
  },
  {
   "cell_type": "code",
   "execution_count": null,
   "id": "949450ec",
   "metadata": {},
   "outputs": [],
   "source": [
    "def aggregate(v, n=7320, h=20, loc=30):\n",
    "    out = [np.zeros((1, loc)) for _ in range(n)]\n",
    "    cnt = [np.ones((1, loc)) for _ in range(h)] + [np.zeros((1, loc)) for _ in range(n-h)]\n",
    "    L = len(y_ids)\n",
    "    for l in range(L):\n",
    "        i = y_ids[l] \n",
    "        out[i] += v[l, :]\n",
    "        cnt[i] += 1\n",
    "\n",
    "    outs = np.concatenate(out)\n",
    "    cnts = np.concatenate(cnt)\n",
    "    return (outs/cnts).transpose()"
   ]
  },
  {
   "cell_type": "code",
   "execution_count": null,
   "id": "73175c09",
   "metadata": {},
   "outputs": [],
   "source": [
    "def load_outputs(path, n, h, loc):\n",
    "    data = np.load(path)\n",
    "    input, pred, label = data['input'], data['prediction'], data['truth']\n",
    "    \n",
    "    \n",
    "    if 'DC-RNN' in path:\n",
    "        pred, label = pred.swapaxes(0,1), label.swapaxes(0,1)\n",
    "        \n",
    "    predictions = aggregate(pred.reshape(-1, loc), n, h, loc)\n",
    "    labels = aggregate(label.reshape(-1, loc), n, h, loc)\n",
    "#     print(input.shape, pred.shape, label.shape, '//', predictions.shape, labels.shape)\n",
    "    \n",
    "    return predictions, labels"
   ]
  },
  {
   "cell_type": "markdown",
   "id": "58a58ab4",
   "metadata": {},
   "source": [
    "## Visualization"
   ]
  },
  {
   "cell_type": "code",
   "execution_count": null,
   "id": "f55f1849",
   "metadata": {},
   "outputs": [],
   "source": [
    "def compute_metrics(name, p, l, horizon, size = None):\n",
    "    if size:\n",
    "        p = p[:, -size:]\n",
    "        l = l[:, -size:]\n",
    "    # Mean absolute error\n",
    "    mae = (np.abs(p - l) / horizon).mean()\n",
    "\n",
    "    # Mean Absolute Percentage Error\n",
    "    smape = 2.0 * (np.abs(l-p)/(np.abs(l+1e-10)+np.abs(p+1e-10))).mean()\n",
    "\n",
    "    # Root Mean Squared Error\n",
    "    rmse = ((p - l)**2 / horizon).mean(-1)\n",
    "    rmse = np.sqrt(rmse).mean()\n",
    "\n",
    "\n",
    "    return mae, smape, rmse"
   ]
  },
  {
   "cell_type": "code",
   "execution_count": null,
   "id": "817b530b",
   "metadata": {
    "scrolled": true
   },
   "outputs": [],
   "source": [
    "def get_result(i, horizon, collector):\n",
    "    \n",
    "    for name in names:\n",
    "        p, l = load_outputs(f'{name}/data/{dataset}/output/preds{i}.npz', n, horizon, loc)\n",
    "        out = compute_metrics(name, p, l, horizon)\n",
    "        collector[name]['mae'].append(out[0])\n",
    "        collector[name]['smape'].append(out[1])\n",
    "        collector[name]['rmse'].append(out[2])\n",
    "    return collector"
   ]
  },
  {
   "cell_type": "code",
   "execution_count": null,
   "id": "da279470",
   "metadata": {},
   "outputs": [],
   "source": [
    "names = ['DC-RNN', 'FC-GAGA', 'GMAN', 'ConvLSTM']\n",
    "collector = {}\n",
    "for name in names:\n",
    "    collector[name] = {\"mae\": [], \"smape\": [], \"rmse\": []}"
   ]
  },
  {
   "cell_type": "code",
   "execution_count": null,
   "id": "0d8b347e",
   "metadata": {
    "scrolled": true
   },
   "outputs": [],
   "source": [
    "for i in tqdm(range(100)):\n",
    "    collector = get_result(i, horizon, collector)    "
   ]
  },
  {
   "cell_type": "code",
   "execution_count": null,
   "id": "629c966b",
   "metadata": {},
   "outputs": [],
   "source": [
    "for name in names:\n",
    "    mae = np.array(collector[name]['mae']).mean()\n",
    "    smape = np.array(collector[name]['smape']).mean()\n",
    "    rmse = np.array(collector[name]['rmse']).mean()\n",
    "    print(f\"{name} & {mae:.4f} & {smape:.4f} & {rmse:.4f} \\\\\\\\\")"
   ]
  },
  {
   "cell_type": "code",
   "execution_count": null,
   "id": "dfc17f40",
   "metadata": {},
   "outputs": [],
   "source": [
    "mae, smape, rmse = 0, 0, 0\n",
    "iter = range(100)\n",
    "for i in tqdm(iter):\n",
    "    p = np.load(f'output/st_sim/preds{i}.npy')\n",
    "    l = pd.read_csv(f'data/st_sim/csv/s{i}.csv')\n",
    "    l = l.iloc[:, 1:].to_numpy()\n",
    "    a, b, c = compute_metrics('Shape function', p, l , horizon)\n",
    "    mae += a\n",
    "    smape += b\n",
    "    rmse += c\n",
    "\n",
    "mae /= len(iter)\n",
    "smape /= len(iter)\n",
    "rmse /= len(iter)\n",
    "print(f\"Shape function & {mae:.4f} & {smape:.4f} & {rmse:.4f} \\\\\\\\\")"
   ]
  },
  {
   "cell_type": "code",
   "execution_count": null,
   "id": "8eb0b28a",
   "metadata": {},
   "outputs": [],
   "source": [
    "fig, axs = plt.subplots(2, 2, figsize=(18,8))\n",
    "i = 0\n",
    "location = 10\n",
    "for r in range(2):\n",
    "    for c in range(2):\n",
    "        axs[r,c].plot(labels[i][location, -200:], color='blue')\n",
    "        axs[r,c].plot(preds[i][location, -200:], color='red')\n",
    "        axs[r,c].title.set_text(names[i])\n",
    "        i += 1\n"
   ]
  },
  {
   "cell_type": "code",
   "execution_count": null,
   "id": "36310374",
   "metadata": {},
   "outputs": [],
   "source": [
    "plt.figure(figsize=(18,8))\n",
    "plt.plot(sim[0][location, -200:], c='b')\n",
    "plt.plot(sim[1][location, -200:], c='r')\n",
    "plt.show()"
   ]
  }
 ],
 "metadata": {
  "interpreter": {
   "hash": "1688c8c8b3141dfe96adf7a57b6468d95b56c400840a60e1c5e8d27f4ad0f81c"
  },
  "kernelspec": {
   "display_name": "pypro",
   "language": "python",
   "name": "pypro"
  },
  "language_info": {
   "codemirror_mode": {
    "name": "ipython",
    "version": 3
   },
   "file_extension": ".py",
   "mimetype": "text/x-python",
   "name": "python",
   "nbconvert_exporter": "python",
   "pygments_lexer": "ipython3",
   "version": "3.9.10"
  }
 },
 "nbformat": 4,
 "nbformat_minor": 5
}
