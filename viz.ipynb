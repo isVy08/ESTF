{
 "cells": [
  {
   "cell_type": "markdown",
   "id": "cf1c0eee",
   "metadata": {},
   "source": [
    "## Imports"
   ]
  },
  {
   "cell_type": "code",
   "execution_count": null,
   "id": "4ca714f8",
   "metadata": {},
   "outputs": [],
   "source": [
    "import random\n",
    "import numpy as np\n",
    "from utils import *\n",
    "import matplotlib.pyplot as plt\n",
    "import matplotlib.colors as mcolors"
   ]
  },
  {
   "cell_type": "markdown",
   "id": "58887af9",
   "metadata": {},
   "source": [
    "## Forecasting"
   ]
  },
  {
   "cell_type": "code",
   "execution_count": null,
   "id": "e5d683be",
   "metadata": {},
   "outputs": [],
   "source": [
    "def plot_forecast(source, prediction, nrow=5, ncol=5, from_=2800, to_=None):\n",
    "    n = source.shape[0]\n",
    "    idx = random.sample(range(n), nrow * ncol)\n",
    "    fig, axs = plt.subplots(nrow, ncol, figsize=(15,8), sharex=True)\n",
    "    if to_ is None:\n",
    "        to_ = source.shape[1]\n",
    "    i = 0\n",
    "    for r in range(nrow):\n",
    "        for c in range(ncol):\n",
    "            axs[r,c].plot(prediction[idx[i], from_:to_], c='r')\n",
    "            axs[r,c].plot(source[idx[i], from_:to_], c='b')\n",
    "\n",
    "            i += 1\n",
    "    fig.tight_layout()\n",
    "    plt.show()"
   ]
  },
  {
   "cell_type": "code",
   "execution_count": null,
   "id": "d10e5b03",
   "metadata": {},
   "outputs": [],
   "source": [
    "def plot_shape_function(d, F1, F2, nrow=5, ncol=5):\n",
    "    n = F1.shape[1]\n",
    "    idx = random.sample(range(n), nrow * ncol)\n",
    "    fig, axs = plt.subplots(nrow, ncol, figsize=(15,8), sharex=True)\n",
    "    i = 0\n",
    "    for r in range(nrow):\n",
    "        for c in range(ncol):\n",
    "            if F2 is not None:\n",
    "                axs[r,c].scatter(d, F1[:, idx[i]], c='b')\n",
    "                axs[r,c].scatter(d, F2[:, idx[i]], c='r')\n",
    "            else:\n",
    "                axs[r,c].scatter(d, F1[:, idx[i]])\n",
    "            i += 1\n",
    "    fig.tight_layout()\n",
    "    plt.show()"
   ]
  },
  {
   "cell_type": "code",
   "execution_count": null,
   "id": "7ab22106",
   "metadata": {},
   "outputs": [],
   "source": [
    "# Colors\n",
    "size = out[2].shape[1]\n",
    "colors = list(mcolors.CSS4_COLORS.keys())\n",
    "indices = random.choices(range(len(colors)), k=size)"
   ]
  },
  {
   "cell_type": "markdown",
   "id": "7352daff",
   "metadata": {},
   "source": [
    "## Learning"
   ]
  },
  {
   "cell_type": "code",
   "execution_count": null,
   "id": "a5b3ffae",
   "metadata": {},
   "outputs": [],
   "source": [
    "_, d, _ = load_pickle('sample_small.pickle')"
   ]
  },
  {
   "cell_type": "code",
   "execution_count": null,
   "id": "f107934a",
   "metadata": {},
   "outputs": [],
   "source": [
    "out = load_pickle('output/sm.pickle')\n",
    "sim = load_pickle('output/sm_sim.pickle')"
   ]
  },
  {
   "cell_type": "code",
   "execution_count": null,
   "id": "354d670d",
   "metadata": {
    "scrolled": true
   },
   "outputs": [],
   "source": [
    "out[2] = out[2].detach().numpy()\n",
    "out[0].shape, out[1].shape, out[2].shape"
   ]
  },
  {
   "cell_type": "code",
   "execution_count": null,
   "id": "a9ae8001",
   "metadata": {},
   "outputs": [],
   "source": [
    "sim[2] = sim[2].detach().numpy()\n",
    "sim[0].shape, sim[1].shape, sim[2].shape"
   ]
  },
  {
   "cell_type": "code",
   "execution_count": null,
   "id": "2d6e5592",
   "metadata": {},
   "outputs": [],
   "source": [
    "plt.plot(out[0][20, 4900:5000], c='b')\n",
    "plt.plot(out[1][20, 4900:5000], c='r')\n",
    "plt.show()"
   ]
  },
  {
   "cell_type": "code",
   "execution_count": null,
   "id": "7976d9e2",
   "metadata": {},
   "outputs": [],
   "source": [
    "plt.plot(sim[1][20, :4000], c='r')\n",
    "plt.plot(sim[0][20, :4000], c='b')\n",
    "\n",
    "plt.show()"
   ]
  },
  {
   "cell_type": "code",
   "execution_count": null,
   "id": "73e73288",
   "metadata": {},
   "outputs": [],
   "source": [
    "plot_forecast(out[0], out[1], 5, 6, 4000, 5000)"
   ]
  },
  {
   "cell_type": "code",
   "execution_count": null,
   "id": "e2da7982",
   "metadata": {
    "scrolled": false
   },
   "outputs": [],
   "source": [
    "plot_forecast(sim[0], sim[1], 5, 6, 2000, 4000)"
   ]
  },
  {
   "cell_type": "code",
   "execution_count": null,
   "id": "97063b08",
   "metadata": {},
   "outputs": [],
   "source": [
    "plot_shape_function(d, out[2], sim[2], 8, 8)"
   ]
  },
  {
   "cell_type": "markdown",
   "id": "d215b02a",
   "metadata": {},
   "source": [
    "## Simulation"
   ]
  },
  {
   "cell_type": "code",
   "execution_count": null,
   "id": "f738310b",
   "metadata": {},
   "outputs": [],
   "source": [
    "data = np.load('data/data_sim.npy')"
   ]
  },
  {
   "cell_type": "code",
   "execution_count": null,
   "id": "01e1dce5",
   "metadata": {},
   "outputs": [],
   "source": [
    "plt.figure(figsize=(20,8))\n",
    "plt.plot(data[10,10:100], c='b')\n",
    "plt.show()"
   ]
  },
  {
   "cell_type": "markdown",
   "id": "b12ce105",
   "metadata": {},
   "source": [
    "## Weight dynamics"
   ]
  },
  {
   "cell_type": "code",
   "execution_count": null,
   "id": "2f818357",
   "metadata": {},
   "outputs": [],
   "source": [
    "def plot_weights(f, N, name):\n",
    "    fd = f.reshape((N, N))\n",
    "    fd = np.exp(-fd)\n",
    "    plt.figure(figsize=(8, 8))\n",
    "    plt.imshow(fd, cmap=\"YlGn\")\n",
    "    plt.title(name)\n",
    "    cax = plt.axes([0.85, 0.1, 0.075, 0.8])\n",
    "    plt.colorbar(cax=cax)\n",
    "    plt.savefig(f'viz/weight/{name}.png')"
   ]
  },
  {
   "cell_type": "code",
   "execution_count": null,
   "id": "ddd7a4e6",
   "metadata": {},
   "outputs": [],
   "source": [
    "F = np.load('data/estimates.npy')\n",
    "NN, T = F.shape\n",
    "N = np.sqrt(NN).astype('int')"
   ]
  },
  {
   "cell_type": "code",
   "execution_count": null,
   "id": "be529527",
   "metadata": {},
   "outputs": [],
   "source": [
    "for t in range(0, T, 200):\n",
    "    f = F[:, t]\n",
    "    plot_weights(f, N, f\"T{t}\")"
   ]
  }
 ],
 "metadata": {
  "interpreter": {
   "hash": "1688c8c8b3141dfe96adf7a57b6468d95b56c400840a60e1c5e8d27f4ad0f81c"
  },
  "kernelspec": {
   "display_name": "Python 3 (ipykernel)",
   "language": "python",
   "name": "python3"
  },
  "language_info": {
   "codemirror_mode": {
    "name": "ipython",
    "version": 3
   },
   "file_extension": ".py",
   "mimetype": "text/x-python",
   "name": "python",
   "nbconvert_exporter": "python",
   "pygments_lexer": "ipython3",
   "version": "3.6.2"
  }
 },
 "nbformat": 4,
 "nbformat_minor": 5
}
