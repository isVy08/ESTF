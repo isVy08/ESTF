{
 "cells": [
  {
   "cell_type": "markdown",
   "id": "cf1c0eee",
   "metadata": {},
   "source": [
    "## Imports"
   ]
  },
  {
   "cell_type": "code",
   "execution_count": 1,
   "id": "4ca714f8",
   "metadata": {},
   "outputs": [],
   "source": [
    "import scipy.io, random\n",
    "import numpy as np\n",
    "from utils import *\n",
    "import matplotlib.pyplot as plt\n",
    "from tqdm import tqdm\n",
    "import pandas as pd\n",
    "from scipy import stats"
   ]
  },
  {
   "cell_type": "markdown",
   "id": "58887af9",
   "metadata": {},
   "source": [
    "## Utils"
   ]
  },
  {
   "cell_type": "code",
   "execution_count": 2,
   "id": "e5d683be",
   "metadata": {},
   "outputs": [],
   "source": [
    "def plot_forecast(source, prediction, nrow=5, ncol=5, from_=2800, to_=None, figsize=(10,8)):\n",
    "    n = source.shape[0]\n",
    "    idx = list(range(n))\n",
    "    fig, axs = plt.subplots(nrow, ncol, figsize=figsize, sharex=True)\n",
    "    if to_ is None:\n",
    "        to_ = source.shape[1]\n",
    "    i = 0\n",
    "    for r in range(nrow):\n",
    "        for c in range(ncol):\n",
    "            axs[r,c].plot(range(from_, to_), source[idx[i], from_:to_], c='b', label='Real values')\n",
    "            axs[r,c].plot(range(from_, to_), prediction[idx[i], from_:to_], c='r', label='Forecasts')\n",
    "            axs[r,c].grid()\n",
    "            i += 1\n",
    "            \n",
    "    fig.tight_layout()\n",
    "    handles, labels = fig.axes[0].get_legend_handles_labels()\n",
    "    fig.legend(handles, labels, ncol=2, fontsize='large', loc='upper center', bbox_to_anchor=(0.25, 0.55, 0.5, 0.5))\n",
    "    plt.setp(axs[-1, :], xlabel='Time')\n",
    "    plt.show()"
   ]
  },
  {
   "cell_type": "code",
   "execution_count": 3,
   "id": "907a211d",
   "metadata": {},
   "outputs": [],
   "source": [
    "def read_data_from_csv(data_path):\n",
    "    df = pd.read_csv(data_path)\n",
    "    X = df.iloc[:, 1:].to_numpy()\n",
    "    return X"
   ]
  },
  {
   "cell_type": "markdown",
   "id": "58ad9b53",
   "metadata": {},
   "source": [
    "## Init"
   ]
  },
  {
   "cell_type": "code",
   "execution_count": 4,
   "id": "a16ff636",
   "metadata": {},
   "outputs": [],
   "source": [
    "ids, d, _ = load_pickle('data/sample.pickle')"
   ]
  },
  {
   "cell_type": "code",
   "execution_count": null,
   "id": "7cdf33e5",
   "metadata": {},
   "outputs": [],
   "source": [
    "data = read_data_from_csv('data/nst_sim.csv')\n",
    "# data_std = scale(data,0,1)"
   ]
  },
  {
   "cell_type": "code",
   "execution_count": null,
   "id": "24a9756f",
   "metadata": {},
   "outputs": [],
   "source": [
    "#  Check data pattern\n",
    "i = 10\n",
    "plt.figure(figsize=(20,10))\n",
    "plt.plot(data[i, :500])\n",
    "# plt.plot(data_std[i, :])"
   ]
  },
  {
   "cell_type": "markdown",
   "id": "5c68bf64",
   "metadata": {},
   "source": [
    "# Stationary"
   ]
  },
  {
   "cell_type": "markdown",
   "id": "7352daff",
   "metadata": {},
   "source": [
    "## 1. Forecasting"
   ]
  },
  {
   "cell_type": "code",
   "execution_count": null,
   "id": "282cc141",
   "metadata": {},
   "outputs": [],
   "source": [
    "sim = load_pickle('output/st_sim.pickle')"
   ]
  },
  {
   "cell_type": "code",
   "execution_count": null,
   "id": "a9ae8001",
   "metadata": {},
   "outputs": [],
   "source": [
    "sim[0].shape, sim[1].shape, sim[2].shape"
   ]
  },
  {
   "cell_type": "code",
   "execution_count": null,
   "id": "7976d9e2",
   "metadata": {
    "scrolled": false
   },
   "outputs": [],
   "source": [
    "plt.figure(figsize=(8,5))\n",
    "plt.plot(range(300,500), sim[0][10, -200:], c='b', label='Real Values')\n",
    "plt.plot(range(300, 500), sim[1][10, -200:], c='r', label='Forecasts')\n",
    "plt.xlabel('Time')\n",
    "plt.legend(fontsize='medium', loc='upper left')\n",
    "plt.title('Stationary Simulation')\n",
    "plt.grid()\n",
    "plt.show()"
   ]
  },
  {
   "cell_type": "code",
   "execution_count": null,
   "id": "e2da7982",
   "metadata": {
    "scrolled": false
   },
   "outputs": [],
   "source": [
    "plot_forecast(sim[0], sim[1], 6, 5, 300, 500, (16,7))"
   ]
  },
  {
   "cell_type": "markdown",
   "id": "761888c0",
   "metadata": {},
   "source": [
    "## 2. Shape Function"
   ]
  },
  {
   "cell_type": "code",
   "execution_count": null,
   "id": "a5b3ffae",
   "metadata": {},
   "outputs": [],
   "source": [
    "F = np.log(d+1)"
   ]
  },
  {
   "cell_type": "code",
   "execution_count": null,
   "id": "228ef74c",
   "metadata": {
    "scrolled": false
   },
   "outputs": [],
   "source": [
    "l = 1000\n",
    "plt.figure(figsize=(8,5))\n",
    "plt.scatter(d[:l], F[:l, ], c='b', label='Actual SF')\n",
    "plt.scatter(d[:l], sim[2][:l, 0], c='r', label='Estimated SF')\n",
    "plt.legend()\n",
    "plt.grid()\n",
    "plt.xlabel('Distance')\n",
    "plt.title('Stationary Simulation')\n",
    "plt.show()"
   ]
  },
  {
   "cell_type": "code",
   "execution_count": null,
   "id": "97063b08",
   "metadata": {},
   "outputs": [],
   "source": [
    "plot_shape_function(d_norm, sim[2], None, 5, 5)"
   ]
  },
  {
   "cell_type": "markdown",
   "id": "de36dfb7",
   "metadata": {},
   "source": [
    "## 3. Multi-Step"
   ]
  },
  {
   "cell_type": "code",
   "execution_count": null,
   "id": "93cc96f9",
   "metadata": {},
   "outputs": [],
   "source": [
    "h1 = load_pickle('output/sim_h1.pickle')\n",
    "h2 = load_pickle('output/sim_h5.pickle')"
   ]
  },
  {
   "cell_type": "code",
   "execution_count": null,
   "id": "04088f2d",
   "metadata": {},
   "outputs": [],
   "source": [
    "ts = 200\n",
    "fig, axs = plt.subplots(1, 2, figsize=(18,8))\n",
    "axs[0].plot(h1[0][10, -ts:], c='b')\n",
    "axs[0].plot(h1[1][10, -ts:], c='r')\n",
    "axs[0].title.set_text('h = 1')\n",
    "\n",
    "axs[1].plot(h2[0][10, -ts:], c='b')\n",
    "axs[1].plot(h2[1][10, -ts:], c='r')\n",
    "axs[].title.set_text('h = 5')\n",
    "plt.show()"
   ]
  },
  {
   "cell_type": "markdown",
   "id": "62ede46d",
   "metadata": {},
   "source": [
    "# Non-Stationary"
   ]
  },
  {
   "cell_type": "code",
   "execution_count": 19,
   "id": "02109ea8",
   "metadata": {},
   "outputs": [],
   "source": [
    "def get_alphas(path):\n",
    "    alphas = pd.read_csv(path)\n",
    "    return alphas.iloc[:, 1:].to_numpy()"
   ]
  },
  {
   "cell_type": "code",
   "execution_count": 54,
   "id": "a8631775",
   "metadata": {},
   "outputs": [],
   "source": [
    "def plot_sf(d, F, F_hat, nrow=5, ncol=5, to_=None, figsize=(10,8)):\n",
    "    fig, axs = plt.subplots(nrow, ncol, figsize=figsize, sharex=True)\n",
    "    if to_ is None:\n",
    "        to_ = F.shape[0]\n",
    "    i = 0\n",
    "    for r in range(nrow):\n",
    "        for c in range(ncol):\n",
    "            axs[r,c].scatter(d[:to_], F[i, :to_,], c='b', label='Actual SF')\n",
    "            axs[r,c].scatter(d[:to_], F_hat[i, :to_,], c='r', label='Estimated SF')\n",
    "            axs[r,c].title.set_text(f'Time = {i}')\n",
    "            axs[r,c].grid()\n",
    "            i += 1\n",
    "            \n",
    "    fig.tight_layout()\n",
    "#     handles, labels = fig.axes[0].get_legend_handles_labels()\n",
    "#     fig.legend(handles, labels, ncol=2, fontsize='large', loc='upper center', bbox_to_anchor=(0.25, 0.55, 0.5, 0.5))\n",
    "    plt.setp(axs[-1, :], xlabel='Distance')\n",
    "    plt.show()"
   ]
  },
  {
   "cell_type": "code",
   "execution_count": 23,
   "id": "84b24765",
   "metadata": {},
   "outputs": [],
   "source": [
    "def aggregate(sf, L):\n",
    "    N = sf.shape[0]\n",
    "    out = []\n",
    "    for i in range(0, N, L):\n",
    "        out.append(sf[i: i+L, ].mean(0))\n",
    "    return np.stack(out, 0)"
   ]
  },
  {
   "cell_type": "code",
   "execution_count": 20,
   "id": "22556db9",
   "metadata": {},
   "outputs": [],
   "source": [
    "alphas = get_alphas('data/nst_sim/alphas.csv')"
   ]
  },
  {
   "cell_type": "markdown",
   "id": "f2152e3e",
   "metadata": {},
   "source": [
    "## 1. Forecasting"
   ]
  },
  {
   "cell_type": "code",
   "execution_count": null,
   "id": "5d912504",
   "metadata": {},
   "outputs": [],
   "source": [
    "plt.figure(figsize=(8,5))\n",
    "plt.plot(range(0,500), out[0][1, :], c='b', label='Real Values')\n",
    "plt.plot(range(0, 500), out[1][1, :], c='r', label='Forecasts')\n",
    "plt.xlabel('Time')\n",
    "plt.legend(fontsize='medium', loc='upper left')\n",
    "plt.title('Non-Stationary Simulation')\n",
    "plt.grid()\n",
    "plt.show()"
   ]
  },
  {
   "cell_type": "code",
   "execution_count": null,
   "id": "1e8b15dc",
   "metadata": {},
   "outputs": [],
   "source": [
    "plot_forecast(out[0], out[1], 6, 5, 300, 500, (16,7))"
   ]
  },
  {
   "cell_type": "markdown",
   "id": "65133b33",
   "metadata": {},
   "source": [
    "## 2. Shape function"
   ]
  },
  {
   "cell_type": "code",
   "execution_count": 75,
   "id": "525c543a",
   "metadata": {},
   "outputs": [],
   "source": [
    "F_hats = []\n",
    "for i in range(100):\n",
    "    out = load_pickle(f'output/nst_sim/out{i}.pickle')\n",
    "    f = (out[3]) @ out[2].transpose()\n",
    "    F_hats.append(f)\n",
    "F_hats = np.stack(F_hats)"
   ]
  },
  {
   "cell_type": "code",
   "execution_count": 62,
   "id": "4c9ca6b1",
   "metadata": {
    "scrolled": true
   },
   "outputs": [
    {
     "data": {
      "text/plain": [
       "(100, 500, 900)"
      ]
     },
     "execution_count": 62,
     "metadata": {},
     "output_type": "execute_result"
    }
   ],
   "source": [
    "F = np.expand_dims(alphas, -1) @ np.log(d+1).reshape(1, -1) \n",
    "F.shape"
   ]
  },
  {
   "cell_type": "code",
   "execution_count": 76,
   "id": "b68a8648",
   "metadata": {},
   "outputs": [],
   "source": [
    "F_agg = F[:, :300, :].mean(0)\n",
    "F_hat_agg = F_hats.mean(0)"
   ]
  },
  {
   "cell_type": "code",
   "execution_count": 77,
   "id": "54bf82ee",
   "metadata": {},
   "outputs": [
    {
     "data": {
      "text/plain": [
       "((300, 900), (300, 900))"
      ]
     },
     "execution_count": 77,
     "metadata": {},
     "output_type": "execute_result"
    }
   ],
   "source": [
    "F_agg.shape, F_hat_agg.shape"
   ]
  },
  {
   "cell_type": "code",
   "execution_count": 81,
   "id": "cf241ab7",
   "metadata": {
    "scrolled": false
   },
   "outputs": [
    {
     "data": {
      "image/png": "[encoded data removed]",
      "text/plain": [
       "<Figure size 1152x720 with 25 Axes>"
      ]
     },
     "metadata": {
      "needs_background": "light"
     },
     "output_type": "display_data"
    }
   ],
   "source": [
    "plot_sf(d, F_agg, F_hat_agg, 5, 5, 100, (16, 10))"
   ]
  },
  {
   "cell_type": "code",
   "execution_count": null,
   "id": "4ece9450",
   "metadata": {},
   "outputs": [],
   "source": [
    "import matplotlib.colors as mcolors\n",
    "colors = [v for k, v in mcolors.TABLEAU_COLORS.items()]"
   ]
  },
  {
   "cell_type": "markdown",
   "id": "ba105bad",
   "metadata": {},
   "source": [
    "## 3. Multi-Step"
   ]
  },
  {
   "cell_type": "code",
   "execution_count": null,
   "id": "6cf9721a",
   "metadata": {},
   "outputs": [],
   "source": [
    "h1 = load_pickle('output/nst_sim_h1.pickle')\n",
    "h2 = load_pickle('output/nst_sim_h10.pickle')\n"
   ]
  },
  {
   "cell_type": "code",
   "execution_count": null,
   "id": "df579d9e",
   "metadata": {},
   "outputs": [],
   "source": [
    "ts = 500\n",
    "fig, axs = plt.subplots(1, 2, figsize=(18,8))\n",
    "axs[0].plot(h1[0][10, -ts:], c='b')\n",
    "axs[0].plot(h1[1][10, -ts:], c='r')\n",
    "axs[0].title.set_text('h = 1')\n",
    "\n",
    "axs[1].plot(h2[0][10, -ts:], c='b')\n",
    "axs[1].plot(h2[1][10, -ts:], c='r')\n",
    "axs[1].title.set_text('h = 5')\n",
    "plt.show()"
   ]
  },
  {
   "cell_type": "markdown",
   "id": "1c8e39f5",
   "metadata": {},
   "source": [
    "# Baselines"
   ]
  },
  {
   "cell_type": "code",
   "execution_count": null,
   "id": "39673feb",
   "metadata": {},
   "outputs": [],
   "source": [
    "dataset = 'nst_sim'\n",
    "horizon = 1\n",
    "loc, n = 30, 500"
   ]
  },
  {
   "cell_type": "code",
   "execution_count": null,
   "id": "82b4c638",
   "metadata": {},
   "outputs": [],
   "source": [
    "#  Scale data and horizon\n",
    "# data = scale(data, 0.3, 0)"
   ]
  },
  {
   "cell_type": "code",
   "execution_count": null,
   "id": "0794f41a",
   "metadata": {},
   "outputs": [],
   "source": [
    "x_offsets = np.sort(np.concatenate((np.arange(1-horizon, 1, 1),)))\n",
    "y_offsets = np.sort(np.arange(1, 1+horizon, 1))\n",
    "x_ids, y_ids = [], []\n",
    "min_t = abs(min(x_offsets))\n",
    "max_t = abs(n - abs(max(y_offsets)))  # Exclusive\n",
    "for t in range(min_t, max_t):\n",
    "    x_ids.extend(t + x_offsets)\n",
    "    y_ids.extend(t + y_offsets)"
   ]
  },
  {
   "cell_type": "code",
   "execution_count": null,
   "id": "949450ec",
   "metadata": {},
   "outputs": [],
   "source": [
    "def aggregate(v, n=7320, h=20, loc=30):\n",
    "    out = [np.zeros((1, loc)) for _ in range(n)]\n",
    "    cnt = [np.ones((1, loc)) for _ in range(h)] + [np.zeros((1, loc)) for _ in range(n-h)]\n",
    "    L = len(y_ids)\n",
    "    for l in range(L):\n",
    "        i = y_ids[l] \n",
    "        out[i] += v[l, :]\n",
    "        cnt[i] += 1\n",
    "\n",
    "    outs = np.concatenate(out)\n",
    "    cnts = np.concatenate(cnt)\n",
    "    return (outs/cnts).transpose()"
   ]
  },
  {
   "cell_type": "code",
   "execution_count": null,
   "id": "73175c09",
   "metadata": {},
   "outputs": [],
   "source": [
    "def load_outputs(path, n, h, loc):\n",
    "    data = np.load(path)\n",
    "    input, pred, label = data['input'], data['prediction'], data['truth']\n",
    "    \n",
    "    \n",
    "    if 'DC-RNN' in path:\n",
    "        pred, label = pred.swapaxes(0,1), label.swapaxes(0,1)\n",
    "        \n",
    "    predictions = aggregate(pred.reshape(-1, loc), n, h, loc)\n",
    "    labels = aggregate(label.reshape(-1, loc), n, h, loc)\n",
    "#     print(input.shape, pred.shape, label.shape, '//', predictions.shape, labels.shape)\n",
    "    \n",
    "    return predictions, labels"
   ]
  },
  {
   "cell_type": "markdown",
   "id": "58a58ab4",
   "metadata": {},
   "source": [
    "## Visualization"
   ]
  },
  {
   "cell_type": "code",
   "execution_count": null,
   "id": "f55f1849",
   "metadata": {},
   "outputs": [],
   "source": [
    "def compute_metrics(name, p, l, horizon, size = None):\n",
    "    if size:\n",
    "        p = p[:, -size:]\n",
    "        l = l[:, -size:]\n",
    "    # Mean absolute error\n",
    "    mae = (np.abs(p - l) / horizon).mean()\n",
    "\n",
    "    # Mean Absolute Percentage Error\n",
    "    smape = 2.0 * (np.abs(l-p)/(np.abs(l+1e-10)+np.abs(p+1e-10))).mean()\n",
    "\n",
    "    # Root Mean Squared Error\n",
    "    rmse = ((p - l)**2 / horizon).mean(-1)\n",
    "    rmse = np.sqrt(rmse).mean()\n",
    "\n",
    "\n",
    "    return mae, smape, rmse"
   ]
  },
  {
   "cell_type": "code",
   "execution_count": null,
   "id": "817b530b",
   "metadata": {
    "scrolled": true
   },
   "outputs": [],
   "source": [
    "def get_result(i, horizon, collector):\n",
    "    \n",
    "    for name in names:\n",
    "        p, l = load_outputs(f'{name}/data/{dataset}/output/preds{i}.npz', n, horizon, loc)\n",
    "        out = compute_metrics(name, p, l, horizon)\n",
    "        collector[name]['mae'].append(out[0])\n",
    "        collector[name]['smape'].append(out[1])\n",
    "        collector[name]['rmse'].append(out[2])\n",
    "    return collector"
   ]
  },
  {
   "cell_type": "code",
   "execution_count": null,
   "id": "da279470",
   "metadata": {},
   "outputs": [],
   "source": [
    "names = ['DC-RNN', 'FC-GAGA', 'GMAN', 'ConvLSTM']\n",
    "collector = {}\n",
    "for name in names:\n",
    "    collector[name] = {\"mae\": [], \"smape\": [], \"rmse\": []}"
   ]
  },
  {
   "cell_type": "code",
   "execution_count": null,
   "id": "0d8b347e",
   "metadata": {
    "scrolled": true
   },
   "outputs": [],
   "source": [
    "for i in tqdm(range(100)):\n",
    "    collector = get_result(i, horizon, collector)    "
   ]
  },
  {
   "cell_type": "code",
   "execution_count": null,
   "id": "629c966b",
   "metadata": {},
   "outputs": [],
   "source": [
    "for name in names:\n",
    "    means, stds = [], []\n",
    "    for metric in ['mae', 'smape', 'rmse']:\n",
    "        m = np.array(collector[name][metric]).mean()\n",
    "        s = stats.sem(collector[name][metric])\n",
    "        means.append(m)\n",
    "        stds.append(s)\n",
    "    print(f\"{name} & {means[0]:.3f}\\pm{stds[0]:.3f} & {means[1]:.3f}\\pm{stds[1]:.3f} & {means[2]:.3f}\\pm{stds[2]:.3f} \\\\\\\\\")"
   ]
  },
  {
   "cell_type": "code",
   "execution_count": null,
   "id": "dfc17f40",
   "metadata": {},
   "outputs": [],
   "source": [
    "dataset = 'st_sim' if dataset == 'sim' else dataset\n",
    "mae, smape, rmse = [], [], []\n",
    "iter = range(100)\n",
    "for i in tqdm(iter):\n",
    "    p = np.load(f'output/{dataset}/preds{i}.npy')\n",
    "    l = pd.read_csv(f'data/{dataset}/csv/s{i}.csv')\n",
    "    l = l.iloc[:, 1:].to_numpy()\n",
    "    a, b, c = compute_metrics('Shape function', p, l , horizon)\n",
    "    mae.append(a)\n",
    "    smape.append(b)\n",
    "    rmse.append(c)\n",
    "\n",
    "A = np.array(mae).mean(), stats.sem(mae)\n",
    "B = np.array(smape).mean(), stats.sem(smape)\n",
    "C = np.array(rmse).mean(), stats.sem(rmse)\n",
    "print(f\"Shape function & {A[0]:.3f}\\pm{A[1]:.3f} & {B[0]:.3f}\\pm{B[1]:.3f} & {C[0]:.3f}\\pm{C[1]:.3f} \\\\\\\\\")"
   ]
  }
 ],
 "metadata": {
  "interpreter": {
   "hash": "1688c8c8b3141dfe96adf7a57b6468d95b56c400840a60e1c5e8d27f4ad0f81c"
  },
  "kernelspec": {
   "display_name": "pypro",
   "language": "python",
   "name": "pypro"
  },
  "language_info": {
   "codemirror_mode": {
    "name": "ipython",
    "version": 3
   },
   "file_extension": ".py",
   "mimetype": "text/x-python",
   "name": "python",
   "nbconvert_exporter": "python",
   "pygments_lexer": "ipython3",
   "version": "3.9.10"
  }
 },
 "nbformat": 4,
 "nbformat_minor": 5
}
