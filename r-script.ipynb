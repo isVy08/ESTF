{
 "cells": [
  {
   "cell_type": "markdown",
   "id": "e06b7ad6",
   "metadata": {},
   "source": [
    "# Imports"
   ]
  },
  {
   "cell_type": "code",
   "execution_count": null,
   "id": "8bd78455",
   "metadata": {
    "scrolled": true,
    "vscode": {
     "languageId": "r"
    }
   },
   "outputs": [],
   "source": [
    "library(R.matlab)\n",
    "library(vars)\n",
    "library(\"matrixStats\")\n",
    "set.seed(18)\n",
    "options(warn=-1) "
   ]
  },
  {
   "cell_type": "code",
   "execution_count": 2,
   "id": "7ac747b7",
   "metadata": {
    "vscode": {
     "languageId": "r"
    }
   },
   "outputs": [],
   "source": [
    "# download landslide data\n",
    "mine = readMat('data/mine_data.mat')\n",
    "mine = mine$data"
   ]
  },
  {
   "cell_type": "code",
   "execution_count": 3,
   "id": "66f5fe41",
   "metadata": {
    "vscode": {
     "languageId": "r"
    }
   },
   "outputs": [],
   "source": [
    "find_distance = function(x,y){\n",
    "  return(sqrt((x[1]-y[1])^2+(x[2]-y[2])^2))\n",
    "}\n",
    "n.index = c(465,759,769,259,396,1444,90,175,281,507,1662,1038,429,821,1315,63,941,999,929,800,1014,1174,394,1701,825,184,994,480,1555,41)\n"
   ]
  },
  {
   "cell_type": "markdown",
   "id": "047ec477",
   "metadata": {},
   "source": [
    "# Non-stationary"
   ]
  },
  {
   "cell_type": "code",
   "execution_count": null,
   "id": "5235286b",
   "metadata": {
    "vscode": {
     "languageId": "r"
    }
   },
   "outputs": [],
   "source": [
    "generate_w = function(n.index,alpha){\n",
    "  W = matrix(0,nrow = length(n.index),ncol = length(n.index))\n",
    "  for (i in 1:length(n.index)){\n",
    "    for (j in 1:length(n.index)) {\n",
    "      W[i,j] = exp(-alpha*log(find_distance(mine[n.index[i],2:3],mine[n.index[j],2:3])+1))\n",
    "#       W[i,j] = -(alpha*find_distance(mine[n.index[i],2:3],mine[n.index[j],2:3])^2-400*alpha*find_distance(mine[n.index[i],2:3],mine[n.index[j],2:3]))\n",
    "    }\n",
    "    diag(W) = 0\n",
    "    W[i,] = W[i,] / sum(W[i,]) \n",
    "  }\n",
    "  return(W)\n",
    "}"
   ]
  },
  {
   "cell_type": "code",
   "execution_count": null,
   "id": "b0e81ab2",
   "metadata": {
    "vscode": {
     "languageId": "r"
    }
   },
   "outputs": [],
   "source": [
    "generate_one_step = function(x.t_1, W.t_1,epsilon.t_t){\n",
    "  n = dim(W.t_1)[1]\n",
    "  x.t = matrix(0,nrow = n,ncol = 1)\n",
    "  x.t = W.t_1 %*% x.t_1   + epsilon.t_t  # this is the form of our non-stationary model\n",
    "  return(x.t)\n",
    "}"
   ]
  },
  {
   "cell_type": "code",
   "execution_count": null,
   "id": "d8113f6d",
   "metadata": {
    "vscode": {
     "languageId": "r"
    }
   },
   "outputs": [],
   "source": [
    "# The function aims to simulate all data. It iteratively apply generate_one_step function\n",
    "generate_sim = function(x_1,alphas,T,epsilon){\n",
    "  x = cbind(x_1)\n",
    "  n = dim(x_1)[1]\n",
    "  for(t in 2:T){\n",
    "    alpha.t_1 = (1 - (t-1)/T)*alphas[1]+(t-1)/T*alphas[2]\n",
    "#     alpha.t_1 = alphas[t-1] \n",
    "    W.t_1 = generate_w(n.index,alpha.t_1)\n",
    "    tem = matrix(0,nrow = n,ncol = 1)\n",
    "    tem = generate_one_step(matrix(x[,ncol(x)],nrow = n),W.t_1,epsilon[,t])\n",
    "    x = cbind(x,tem)\n",
    "  }\n",
    "  return(x)\n",
    "}"
   ]
  },
  {
   "cell_type": "code",
   "execution_count": null,
   "id": "81da26de",
   "metadata": {
    "vscode": {
     "languageId": "r"
    }
   },
   "outputs": [],
   "source": [
    "generate_data = function(path, T=500){\n",
    "    \n",
    "    epsilon_t = matrix(rnorm(30*500,0,0.1),nrow = 30)\n",
    "    initial_value = matrix(runif(30,-0.1,0.1),nrow = 30,ncol = 1)\n",
    "    alpha.bound = runif(1,1,9)*(10^-4)\n",
    "    alphas = c(alpha.bound, 10*alpha.bound)    \n",
    "    X = generate_sim(initial_value, alphas, T, epsilon_t)\n",
    "    write.csv(X, path)\n",
    "    return(alphas)\n",
    "    \n",
    "}"
   ]
  },
  {
   "cell_type": "code",
   "execution_count": null,
   "id": "bc138f2d",
   "metadata": {
    "scrolled": false,
    "vscode": {
     "languageId": "r"
    }
   },
   "outputs": [],
   "source": [
    "T = 500\n",
    "n = 3\n",
    "alpha.m = matrix(0, nrow=n, ncol=2)\n",
    "for (i in 0:(n-1)){\n",
    "    path = paste('data/nst_sim/csv/s',i, '.csv', sep='')\n",
    "    a = generate_data(path, T)\n",
    "    alpha.m[i, ] = a\n",
    "}\n"
   ]
  },
  {
   "cell_type": "code",
   "execution_count": null,
   "id": "bda75f0b",
   "metadata": {
    "vscode": {
     "languageId": "r"
    }
   },
   "outputs": [],
   "source": [
    "write.csv(alpha.m, 'data/nst_sim/alphas.csv')"
   ]
  },
  {
   "cell_type": "code",
   "execution_count": null,
   "id": "ad1fdc39",
   "metadata": {
    "vscode": {
     "languageId": "r"
    }
   },
   "outputs": [],
   "source": [
    "X = read.csv('data/nst_sim/csv/s2.csv')\n",
    "X = as.matrix(X[, 2:501])"
   ]
  },
  {
   "cell_type": "code",
   "execution_count": null,
   "id": "e721fc2a",
   "metadata": {
    "vscode": {
     "languageId": "r"
    }
   },
   "outputs": [],
   "source": [
    "plot(X[1,])"
   ]
  },
  {
   "cell_type": "markdown",
   "id": "802d7dd0",
   "metadata": {},
   "source": [
    "## Decreasing"
   ]
  },
  {
   "cell_type": "code",
   "execution_count": 4,
   "id": "19d1d71e",
   "metadata": {},
   "outputs": [],
   "source": [
    "generate_w = function(n.index,alpha, d_cutoff){\n",
    "  W = matrix(0,nrow = length(n.index),ncol = length(n.index))\n",
    "  for (i in 1:length(n.index)){\n",
    "    for (j in 1:length(n.index)) {\n",
    "      W[i,j] = alpha*(-log(find_distance(mine[i,2:3],mine[j,2:3])+1)+log(d_cutoff))\n",
    "#       W[i,j] = exp(alpha*(-log(find_distance(mine[i,2:3],mine[j,2:3])+1)+log(d_cutoff)))\n",
    "    }\n",
    "    diag(W) = 0\n",
    "#     W[i,] = W[i,] / sum(W[i,]) \n",
    "    \n",
    "  }\n",
    "  return(W)\n",
    "}\n",
    "\n",
    "# function on generate simulated data at one step given previous value, spatial weight matrix, mean function and noise\n",
    "generate_one_step = function(x.t_1, W.t_1,epsilon.t_t){\n",
    "  n = dim(W.t_1)[1]\n",
    "  x.t = matrix(0,nrow = n,ncol = 1)\n",
    "  x.t = W.t_1 %*% x.t_1  + epsilon.t_t  # this is the form of our non-stationary model\n",
    "  return(x.t)\n",
    "}\n",
    "\n",
    "# The function aims to simulate all data. It iteratively apply generate_one_step function\n",
    "generate_sim = function(x_1,alpha.bound,T,epsilon,d_cutoff){\n",
    "  x = cbind(x_1)\n",
    "  n = dim(x_1)[1]\n",
    "  for(t in 2:T){\n",
    "    alpha.t_1 = (1 - (t-1)/T)*alpha.bound[1]+(t-1)/T*alpha.bound[2]\n",
    "    W.t_1 = generate_w(n.index,alpha.t_1,d_cutoff)\n",
    "    tem = matrix(0,nrow = n,ncol = 1)\n",
    "    tem = generate_one_step(matrix(x[,ncol(x)],nrow = n),W.t_1,epsilon[,t])\n",
    "    x = cbind(x,tem)\n",
    "  }\n",
    "  return(x)\n",
    "}"
   ]
  },
  {
   "cell_type": "code",
   "execution_count": 5,
   "id": "9d3492fd",
   "metadata": {},
   "outputs": [],
   "source": [
    "path = 'data/nst_sim/csv/'\n",
    "n = 100\n",
    "alpha.m = matrix(0, nrow=n, ncol=2)"
   ]
  },
  {
   "cell_type": "code",
   "execution_count": 6,
   "id": "0dcca84e",
   "metadata": {},
   "outputs": [],
   "source": [
    "for (i in 0:(n-1)) {\n",
    "    file_ = paste0('s',as.character(i))\n",
    "    file_ = paste0(file_,'.csv',seq = \"\")\n",
    "    file_name = file.path(path,file_)\n",
    "\n",
    "    # create epsilon_t\n",
    "    epsilon_t = matrix(rnorm(30*500,0,1),nrow = 30)\n",
    "    # initial x_1 at time=1\n",
    "    initial_value = matrix(runif(30,-0.1,0.1),nrow = 30,ncol = 1)\n",
    "    alpha.bound = runif(1,1,9)*(10^-4)\n",
    "    d_cutoff = 170\n",
    "    x = generate_sim(initial_value,c(alpha.bound,10*alpha.bound),500,epsilon_t,d_cutoff)\n",
    "\n",
    "    alpha.m[i, ] = c(alpha.bound,10*alpha.bound)\n",
    "\n",
    "    write.csv(x,file_name)\n",
    "}"
   ]
  },
  {
   "cell_type": "code",
   "execution_count": null,
   "id": "b321fe65",
   "metadata": {},
   "outputs": [],
   "source": [
    "alpha.m"
   ]
  },
  {
   "cell_type": "code",
   "execution_count": 7,
   "id": "dbc97f19",
   "metadata": {},
   "outputs": [],
   "source": [
    "write.csv(alpha.m, 'data/nst_sim/csv/alphas.csv')"
   ]
  },
  {
   "cell_type": "markdown",
   "id": "d4c0b01a",
   "metadata": {},
   "source": [
    "# Stationary"
   ]
  },
  {
   "cell_type": "code",
   "execution_count": null,
   "id": "2a1eedf7",
   "metadata": {
    "vscode": {
     "languageId": "r"
    }
   },
   "outputs": [],
   "source": [
    "generate_w = function(n.index,alpha){\n",
    "  # alpha control the magnitute of shape functions. Now we view alpha*log(d) is shape function.\n",
    "  W = matrix(0,nrow = length(n.index),ncol = length(n.index))\n",
    "  for (i in 1:length(n.index)){\n",
    "    for (j in 1:length(n.index)) {\n",
    "      W[i,j] = exp(-alpha*log(find_distance(mine[n.index[i],2:3],mine[n.index[j],2:3])+1))\n",
    "        \n",
    "    }\n",
    "    diag(W) = 0\n",
    "    W[i,] = W[i,] / sum(W[i,])  # flexible depend on results. Adjust accordingly\n",
    "  }\n",
    "  return(W)\n",
    "}\n"
   ]
  },
  {
   "cell_type": "code",
   "execution_count": null,
   "id": "72827e17",
   "metadata": {
    "vscode": {
     "languageId": "r"
    }
   },
   "outputs": [],
   "source": [
    "generate_data = function(path, T=500){\n",
    "    x1 = runif(30,-0.01,0.01) # \n",
    "    X = matrix(0,nrow = 30,ncol = T)\n",
    "    X[,1] = x1\n",
    "    # generate W randomly by assign value for alpha.....\n",
    "    # alpha = random...a value\n",
    "    W = generate_w(n.index, 1.0)\n",
    "    epsilon_t = matrix(rnorm(30*T,0,1),nrow=30)\n",
    "    for (t in 2:T){\n",
    "      X[,t] = W %*% (matrix(X[,t-1],ncol = 1)) + epsilon_t[,t]\n",
    "    }\n",
    "    print(dim(X))\n",
    "    write.csv(X,path)\n",
    "    \n",
    "}\n"
   ]
  },
  {
   "cell_type": "code",
   "execution_count": null,
   "id": "dfa93d0a",
   "metadata": {
    "vscode": {
     "languageId": "r"
    }
   },
   "outputs": [],
   "source": [
    "for (i in 1:100){\n",
    "    print(i-1)\n",
    "    path = paste('data/st_sim/csv/s',i-1, '.csv', sep='')\n",
    "    generate_data(path)\n",
    "}\n"
   ]
  },
  {
   "cell_type": "code",
   "execution_count": null,
   "id": "6d8dd749",
   "metadata": {
    "vscode": {
     "languageId": "r"
    }
   },
   "outputs": [],
   "source": [
    "X = read.csv('data/st_sim/csv/s5.csv')\n",
    "X = as.matrix(X[, 2:501])"
   ]
  },
  {
   "cell_type": "code",
   "execution_count": null,
   "id": "7789ee57",
   "metadata": {
    "vscode": {
     "languageId": "r"
    }
   },
   "outputs": [],
   "source": [
    "plot(X[1,])"
   ]
  },
  {
   "cell_type": "markdown",
   "id": "00f558e9",
   "metadata": {},
   "source": [
    "## Decreasing"
   ]
  },
  {
   "cell_type": "code",
   "execution_count": 8,
   "id": "f8fdf818",
   "metadata": {},
   "outputs": [],
   "source": [
    "generate_w = function(n.index,alpha,d_cutoff){\n",
    "  W = matrix(0,nrow = length(n.index),ncol = length(n.index))\n",
    "  for (i in 1:length(n.index)){\n",
    "    for (j in 1:length(n.index)) {\n",
    "      W[i,j] = alpha*(-log(find_distance(mine[i,2:3],mine[j,2:3])+1)+log(d_cutoff))\n",
    "#       W[i,j] = alpha * find_distance(mine[i,2:3],mine[j,2:3])^2 -400*alpha* find_distance(mine[i,2:3],mine[j,2:3]) + 40000*alpha\n",
    "    }\n",
    "    diag(W) = 0\n",
    "  }\n",
    "  return(W)\n",
    "}"
   ]
  },
  {
   "cell_type": "code",
   "execution_count": 9,
   "id": "fb452642",
   "metadata": {},
   "outputs": [],
   "source": [
    "path = 'data/stationary/csv/'"
   ]
  },
  {
   "cell_type": "code",
   "execution_count": 10,
   "id": "bc5f3613",
   "metadata": {},
   "outputs": [],
   "source": [
    "n = 100\n",
    "alpha.m = matrix(0, nrow=n, ncol=1)"
   ]
  },
  {
   "cell_type": "code",
   "execution_count": 11,
   "id": "a72cb4af",
   "metadata": {},
   "outputs": [],
   "source": [
    "for (i in 0:(n-1)) {\n",
    "    file_ = paste0('s',as.character(i))\n",
    "    file_ = paste0(file_,'.csv',seq = \"\")\n",
    "    file_name = file.path(path,file_)\n",
    "    x1 = runif(30,-0.01,0.01) # \n",
    "    \n",
    "    X = matrix(0,nrow = 30,ncol = 500)\n",
    "    X[,1] = x1\n",
    "\n",
    "    alpha = runif(1,0.005,0.009) # log\n",
    "#     alpha = runif(1,0.0000001,0.0000009) # quadratic\n",
    "    d_cutoff = 170\n",
    "\n",
    "    W = generate_w(n.index,alpha,d_cutoff)\n",
    "    epsilon_t = matrix(rnorm(30*500,0,1),nrow = 30)\n",
    "\n",
    "    for (t in 2:500){\n",
    "        X[,t] = W %*% (matrix(X[,t-1],ncol = 1))+epsilon_t[,t]\n",
    "      }\n",
    "\n",
    "    write.csv(X,file_name)\n",
    "    alpha.m[i, ] = alpha\n",
    "}"
   ]
  },
  {
   "cell_type": "code",
   "execution_count": null,
   "id": "b20c71e7",
   "metadata": {},
   "outputs": [],
   "source": [
    "alpha.m"
   ]
  },
  {
   "cell_type": "code",
   "execution_count": 12,
   "id": "8526110d",
   "metadata": {},
   "outputs": [],
   "source": [
    "write.csv(alpha.m, paste0(path, 'alphas.csv'))"
   ]
  }
 ],
 "metadata": {
  "kernelspec": {
   "display_name": "R",
   "language": "R",
   "name": "ir"
  },
  "language_info": {
   "codemirror_mode": "r",
   "file_extension": ".r",
   "mimetype": "text/x-r-source",
   "name": "R",
   "pygments_lexer": "r",
   "version": "3.6.0"
  }
 },
 "nbformat": 4,
 "nbformat_minor": 5
}
