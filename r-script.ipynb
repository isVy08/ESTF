{
 "cells": [
  {
   "cell_type": "markdown",
   "id": "e06b7ad6",
   "metadata": {},
   "source": [
    "# Imports"
   ]
  },
  {
   "cell_type": "code",
   "execution_count": null,
   "id": "8bd78455",
   "metadata": {
    "scrolled": true,
    "vscode": {
     "languageId": "r"
    }
   },
   "outputs": [],
   "source": [
    "library(R.matlab)\n",
    "library(vars)\n",
    "library(\"matrixStats\")\n",
    "set.seed(18)\n",
    "options(warn=-1) "
   ]
  },
  {
   "cell_type": "code",
   "execution_count": 2,
   "id": "7ac747b7",
   "metadata": {
    "vscode": {
     "languageId": "r"
    }
   },
   "outputs": [],
   "source": [
    "# download landslide data\n",
    "mine = readMat('data/mine_data.mat')\n",
    "mine = mine$data"
   ]
  },
  {
   "cell_type": "code",
   "execution_count": 3,
   "id": "66f5fe41",
   "metadata": {
    "vscode": {
     "languageId": "r"
    }
   },
   "outputs": [],
   "source": [
    "find_distance = function(x,y){\n",
    "  return(sqrt((x[1]-y[1])^2+(x[2]-y[2])^2))\n",
    "}\n",
    "n.index = c(465,759,769,259,396,1444,90,175,281,507,1662,1038,429,821,1315,63,941,999,929,800,1014,1174,394,1701,825,184,994,480,1555,41)\n"
   ]
  },
  {
   "cell_type": "markdown",
   "id": "047ec477",
   "metadata": {},
   "source": [
    "# Non-stationary"
   ]
  },
  {
   "cell_type": "code",
   "execution_count": 29,
   "id": "19d1d71e",
   "metadata": {
    "vscode": {
     "languageId": "r"
    }
   },
   "outputs": [],
   "source": [
    "generate_w = function(n.index,alpha, d_cutoff){\n",
    "  W = matrix(0,nrow = length(n.index),ncol = length(n.index))\n",
    "  for (i in 1:length(n.index)){\n",
    "    for (j in 1:length(n.index)) {\n",
    "        W[i,j] = alpha*(-log(find_distance(mine[i,2:3],mine[j,2:3])+1)+log(d_cutoff))\n",
    "#         W[i,j] = exp(W[i,j])\n",
    "        \n",
    "    }\n",
    "    \n",
    "#     W[i,] = W[i,] / sum(W[i,])\n",
    "    \n",
    "  }\n",
    "  return(W)\n",
    "}\n",
    "\n",
    "# function on generate simulated data at one step given previous value, spatial weight matrix, mean function and noise\n",
    "generate_one_step = function(x.t_1, W.t_1,epsilon.t_t){\n",
    "  n = dim(W.t_1)[1]\n",
    "  x.t = matrix(0,nrow = n,ncol = 1)\n",
    "  x.t = W.t_1 %*% x.t_1  + epsilon.t_t  # this is the form of our non-stationary model\n",
    "  return(x.t)\n",
    "}\n",
    "\n",
    "# The function aims to simulate all data. It iteratively apply generate_one_step function\n",
    "generate_sim = function(x_1,alpha.bound,T,epsilon,d_cutoff){\n",
    "  x = cbind(x_1)\n",
    "  n = dim(x_1)[1]\n",
    "  for(t in 2:T){\n",
    "    alpha.t_1 = (1 - (t-1)/T)*alpha.bound[1]+(t-1)/T*alpha.bound[2]\n",
    "    W.t_1 = generate_w(n.index,alpha.t_1,d_cutoff)\n",
    "    tem = matrix(0,nrow = n,ncol = 1)\n",
    "    tem = generate_one_step(matrix(x[,ncol(x)],nrow = n),W.t_1,epsilon[,t])\n",
    "    x = cbind(x,tem)\n",
    "  }\n",
    "  return(x)\n",
    "}"
   ]
  },
  {
   "cell_type": "code",
   "execution_count": 34,
   "id": "9d3492fd",
   "metadata": {
    "vscode": {
     "languageId": "r"
    }
   },
   "outputs": [],
   "source": [
    "path = 'data/non_stationary/csv/'\n",
    "n = 100\n",
    "alpha.m = matrix(0, nrow=n, ncol=2)"
   ]
  },
  {
   "cell_type": "code",
   "execution_count": 35,
   "id": "0dcca84e",
   "metadata": {
    "vscode": {
     "languageId": "r"
    }
   },
   "outputs": [],
   "source": [
    "for (i in 0:(n-1)) {\n",
    "    file_ = paste0('s',as.character(i))\n",
    "    file_ = paste0(file_,'.csv',seq = \"\")\n",
    "    file_name = file.path(path,file_)\n",
    "\n",
    "    # create epsilon_t\n",
    "    epsilon_t = matrix(rnorm(30*500,0,1),nrow = 30)\n",
    "    # initial x_1 at time=1\n",
    "    initial_value = matrix(runif(30,-0.1,0.1),nrow = 30,ncol = 1)\n",
    "    alpha.bound = runif(1,1,2)*(10^-4)\n",
    "    d_cutoff = 170\n",
    "    x = generate_sim(initial_value,c(alpha.bound,10*alpha.bound),500,epsilon_t,d_cutoff)\n",
    "\n",
    "    alpha.m[i+1, ] = c(alpha.bound,10*alpha.bound)\n",
    "\n",
    "    write.csv(x,file_name)\n",
    "}"
   ]
  },
  {
   "cell_type": "code",
   "execution_count": 36,
   "id": "dbc97f19",
   "metadata": {
    "vscode": {
     "languageId": "r"
    }
   },
   "outputs": [],
   "source": [
    "write.csv(alpha.m, 'data/non_stationary/csv/alphas.csv')"
   ]
  },
  {
   "cell_type": "code",
   "execution_count": null,
   "id": "779310c8",
   "metadata": {},
   "outputs": [],
   "source": [
    "X = read.csv('data/non_stationary/csv/s2.csv')\n",
    "X = as.matrix(X[, 2:501])\n",
    "plot(X[1, ])"
   ]
  },
  {
   "cell_type": "markdown",
   "id": "d4c0b01a",
   "metadata": {},
   "source": [
    "# Stationary"
   ]
  },
  {
   "cell_type": "code",
   "execution_count": 4,
   "id": "f8fdf818",
   "metadata": {
    "vscode": {
     "languageId": "r"
    }
   },
   "outputs": [],
   "source": [
    "# W[i,j] = alpha * find_distance(mine[i,2:3],mine[j,2:3])^2 -400*alpha* find_distance(mine[i,2:3],mine[j,2:3]) + 40000*alpha\n",
    "\n",
    "generate_w = function(n.index,alpha,d_cutoff){\n",
    "  W = matrix(0,nrow = length(n.index),ncol = length(n.index))\n",
    "  for (i in 1:length(n.index)){\n",
    "    for (j in 1:length(n.index)) {\n",
    "        W[i,j] = alpha*(-log(find_distance(mine[i,2:3],mine[j,2:3])+1)+log(d_cutoff))\n",
    "#         W[i,j] = exp(W[i,j])\n",
    "\n",
    "      \n",
    "    }\n",
    "#       W[i,] = W[i,] / sum(W[i,])\n",
    "\n",
    "  }\n",
    "  return(W)\n",
    "}"
   ]
  },
  {
   "cell_type": "code",
   "execution_count": 24,
   "id": "fb452642",
   "metadata": {
    "vscode": {
     "languageId": "r"
    }
   },
   "outputs": [],
   "source": [
    "path = 'data/stationary/csv/'"
   ]
  },
  {
   "cell_type": "code",
   "execution_count": 25,
   "id": "bc5f3613",
   "metadata": {
    "vscode": {
     "languageId": "r"
    }
   },
   "outputs": [],
   "source": [
    "n = 100\n",
    "alpha.m = matrix(0, nrow=n, ncol=1)"
   ]
  },
  {
   "cell_type": "code",
   "execution_count": 26,
   "id": "a72cb4af",
   "metadata": {
    "vscode": {
     "languageId": "r"
    }
   },
   "outputs": [],
   "source": [
    "for (i in 0:(n-1)) {\n",
    "    file_ = paste0('s',as.character(i))\n",
    "    file_ = paste0(file_,'.csv',seq = \"\")\n",
    "    file_name = file.path(path,file_)\n",
    "    x1 = runif(30,-0.01,0.01) # \n",
    "    \n",
    "    X = matrix(0,nrow = 30,ncol = 500)\n",
    "    X[,1] = x1\n",
    "\n",
    "    alpha = runif(1,0.05,0.06) # log\n",
    "#     alpha = runif(1,0.0000001,0.0000009) # quadratic\n",
    "    d_cutoff = 170\n",
    "\n",
    "    W = generate_w(n.index,alpha,d_cutoff)\n",
    "    epsilon_t = matrix(rnorm(30*500,0,1),nrow = 30)\n",
    "\n",
    "    for (t in 2:500){\n",
    "        X[,t] = W %*% (matrix(X[,t-1],ncol = 1))+epsilon_t[,t]\n",
    "      }\n",
    "\n",
    "    write.csv(X,file_name)\n",
    "    alpha.m[i+1, ] = alpha\n",
    "    write.csv(alpha.m, paste0(path, 'alphas.csv'))\n",
    "}"
   ]
  },
  {
   "cell_type": "code",
   "execution_count": null,
   "id": "58f396ec",
   "metadata": {
    "vscode": {
     "languageId": "r"
    }
   },
   "outputs": [],
   "source": [
    "X = read.csv('data/stationary/csv/s2.csv')\n",
    "X = as.matrix(X[, 2:501])\n",
    "plot(X[1, ])"
   ]
  }
 ],
 "metadata": {
  "kernelspec": {
   "display_name": "R",
   "language": "R",
   "name": "ir"
  },
  "language_info": {
   "codemirror_mode": "r",
   "file_extension": ".r",
   "mimetype": "text/x-r-source",
   "name": "R",
   "pygments_lexer": "r",
   "version": "3.6.0"
  }
 },
 "nbformat": 4,
 "nbformat_minor": 5
}
